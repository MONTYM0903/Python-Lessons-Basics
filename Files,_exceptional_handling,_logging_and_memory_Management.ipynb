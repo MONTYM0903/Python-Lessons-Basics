{
  "nbformat": 4,
  "nbformat_minor": 0,
  "metadata": {
    "colab": {
      "provenance": []
    },
    "kernelspec": {
      "name": "python3",
      "display_name": "Python 3"
    },
    "language_info": {
      "name": "python"
    }
  },
  "cells": [
    {
      "cell_type": "markdown",
      "source": [
        "1. What is the difference between interpreted and compiled languages ?\n",
        "ANS -\n",
        "- Interpreted: Code is read and run line-by-line (like Python).\n",
        "- Compiled: Code is fully converted into machine language before running (like C, C++)."
      ],
      "metadata": {
        "id": "-lH_vUgmQzLr"
      }
    },
    {
      "cell_type": "markdown",
      "source": [
        "2. What is exception handling in Python ?\n",
        "ANS - The exception handling in Python, is a way to handle errors so that your program doesn’t crash and can continue running.\n"
      ],
      "metadata": {
        "id": "w91ZqH6JQy8F"
      }
    },
    {
      "cell_type": "markdown",
      "source": [
        "3. What is the purpose of the finally block in exception handling ?\n",
        "ANS - The purpose of the finally block in exception handling, is that Code inside \"finally\" runs no matter what — even if there’s an error.\n"
      ],
      "metadata": {
        "id": "RnGSKX2mQwJ0"
      }
    },
    {
      "cell_type": "markdown",
      "source": [
        "4 What is logging in Python ?  \n",
        "ANS- It’s a way to record messages (errors, warnings, info) while a program runs.\n"
      ],
      "metadata": {
        "id": "7DrW8rBFQvvz"
      }
    },
    {
      "cell_type": "markdown",
      "source": [
        "5 What is the significance of the __del__ method in Python ?  \n",
        "ANS- It’s called when an object is deleted, usually to clean up resources.\n"
      ],
      "metadata": {
        "id": "NrZnws9TQvfK"
      }
    },
    {
      "cell_type": "markdown",
      "source": [
        "6 What is the difference between import and from ... import in Python ?  \n",
        "ANS- The difference between import and from...import in python is that:-\n",
        "-> import brings in the whole module.\n",
        "\n",
        "-> from ... import brings only specific parts from a module."
      ],
      "metadata": {
        "id": "garncYlSR0Pd"
      }
    },
    {
      "cell_type": "markdown",
      "source": [
        "7 How can you handle multiple exceptions in Python ?  \n",
        "ANS- By catching many different errors in one try-except block by listing them, we can use handle multiple exceptions in Python."
      ],
      "metadata": {
        "id": "TTqtYBt6R0v6"
      }
    },
    {
      "cell_type": "markdown",
      "source": [
        "8 What is the purpose of the with statement when handling files in Python ?  \n",
        "ANS- The purpose of the \"with\" statement is used to opens and closes the file automatically for us."
      ],
      "metadata": {
        "id": "wH9RKbbSR1Js"
      }
    },
    {
      "cell_type": "markdown",
      "source": [
        "9 What is the difference between multithreading and multiprocessing ?  \n",
        "ANS- The simple difference between the multithreading and multiprocessing is that:-\n",
        "-> Multithreading: Many threads share the same memory, run tasks together.\n",
        "\n",
        "-> Where as in Multiprocessing: Each process has its own memory, runs separately."
      ],
      "metadata": {
        "id": "_8ZHWNnHR14z"
      }
    },
    {
      "cell_type": "markdown",
      "source": [
        "10 What are the advantages of using logging in a program ?\n",
        "ANS- The primary advantage of using logging in a program is that we can Keep records, helps debug, tracks what happened in the program."
      ],
      "metadata": {
        "id": "evKANbawR21J"
      }
    },
    {
      "cell_type": "markdown",
      "source": [
        "11 What is memory management in Python ?  \n",
        "ANS- The memory Management in Python is controlling how memory is given and taken from programs automatically."
      ],
      "metadata": {
        "id": "nUiZW-d4R5YS"
      }
    },
    {
      "cell_type": "markdown",
      "source": [
        "12 What are the basic steps involved in exception handling in Python ?  \n",
        "ANS- The basic steps involved in exception handling in Python are followings-\n",
        "**Step 1** Try the code.\n",
        "**Step 2** Catch the error in except.\n",
        "**Step 3** Do cleanup in finally if needed."
      ],
      "metadata": {
        "id": "TZmAxTVpS-xs"
      }
    },
    {
      "cell_type": "markdown",
      "source": [
        "13 Why is memory management important in Python ?  \n",
        "ANS- Memory Management helps to prevents programs from slowing down or crashing due to memory waste."
      ],
      "metadata": {
        "id": "oKnXxPtyS_pX"
      }
    },
    {
      "cell_type": "markdown",
      "source": [
        "14 What is the role of try and except in exception handling ?  \n",
        "ANS- The role of 'Try' and 'except' is -\n",
        "-> **try**: Put risky code here.\n",
        "-> **except**: Handle what happens if there’s an error."
      ],
      "metadata": {
        "id": "ZIds3L5eTAJ9"
      }
    },
    {
      "cell_type": "markdown",
      "source": [
        "15 How does Python's garbage collection system work ?  \n",
        "ANS- It removes objects from memory when they are no longer used."
      ],
      "metadata": {
        "id": "k5JbOIFOTAct"
      }
    },
    {
      "cell_type": "markdown",
      "source": [
        "16 What is the purpose of the else block in exception handling ?  \n",
        "ANS- The purpose of the else block in exception handling is runs only if no error happens in the try block."
      ],
      "metadata": {
        "id": "XcFPE7XcTBIq"
      }
    },
    {
      "cell_type": "markdown",
      "source": [
        "17 What are the common logging levels in Python ?  \n",
        "ANS- The common loging levels in Python are -\n",
        "-DEBUG,\n",
        "-INFO,\n",
        "-WARNING,\n",
        "-ERROR,\n",
        "-CRITICAL."
      ],
      "metadata": {
        "id": "NQxvTNjSTBiL"
      }
    },
    {
      "cell_type": "markdown",
      "source": [
        "18 What is the difference between os.fork() and multiprocessing in Python ?  \n",
        "ANS- The main difference between the two are:\n",
        "- **os.fork()**: Creates a copy of the current process (Unix only).\n",
        "- **multiprocessing**: Works on all OS, more features."
      ],
      "metadata": {
        "id": "c20PJax_TB2H"
      }
    },
    {
      "cell_type": "markdown",
      "source": [
        "19 What is the importance of closing a file in Python ?  \n",
        "ANS- The importance of closing a file in Python is, that it frees memory and ensures saved changes are written properly."
      ],
      "metadata": {
        "id": "cAN03q-OTCm3"
      }
    },
    {
      "cell_type": "markdown",
      "source": [
        "20 What is the difference between file.read() and file.readline() in Python ?\n",
        "ANS- The main difference between the file.read() and file.readline() in python is:\n",
        "-> read(): Reads the whole file.\n",
        "-> readline(): Reads one line at a time."
      ],
      "metadata": {
        "id": "WzX5tWE4TDGL"
      }
    },
    {
      "cell_type": "markdown",
      "source": [
        "21 What is the logging module in Python used for ?  \n",
        "ANS- The logging module in python used for creating log messages in programs."
      ],
      "metadata": {
        "id": "sFxkGLfCTDde"
      }
    },
    {
      "cell_type": "markdown",
      "source": [
        "22 What is the os module in Python used for in file handling ?  \n",
        "ANS- The os module in python Used to work with files and folders (check if file exists, rename, delete).\n"
      ],
      "metadata": {
        "id": "i31qxz18TD9Z"
      }
    },
    {
      "cell_type": "markdown",
      "source": [
        "23 What are the challenges associated with memory management in Python ?  \n",
        "ANS- The challenges associated with memory management in Python are Memory leaks, using too much memory, unused objects staying too long."
      ],
      "metadata": {
        "id": "1FcuEZw7Uw0n"
      }
    },
    {
      "cell_type": "markdown",
      "source": [
        "24 How do you raise an exception manually in Python ?  \n",
        "ANS- Use 'raise' to create your own error."
      ],
      "metadata": {
        "id": "hBOvemA6Uwu2"
      }
    },
    {
      "cell_type": "markdown",
      "source": [
        "25 Why is it important to use multithreading in certain applications?\n",
        "ANS- Multithreading helps run tasks at the same time, making programs faster for certain jobs."
      ],
      "metadata": {
        "id": "LwZBztxZUwhB"
      }
    },
    {
      "cell_type": "code",
      "source": [
        "#1 How can you open a file for writing in Python and write a string to it\n",
        "with open(\"file.txt\", \"w\") as f:\n",
        "    f.write(\"Hello, world!\")"
      ],
      "metadata": {
        "id": "1koOz7xol_ZM"
      },
      "execution_count": null,
      "outputs": []
    },
    {
      "cell_type": "code",
      "source": [
        "#2 Write a Python program to read the contents of a file and print each line ?\n",
        "with open(\"file.txt\", \"r\") as f:\n",
        "    for line in f:\n",
        "        print(line.strip())"
      ],
      "metadata": {
        "id": "xI9bhZlCmAiE"
      },
      "execution_count": null,
      "outputs": []
    },
    {
      "cell_type": "code",
      "source": [
        "#3 How would you handle a case where the file doesn't exist while trying to open it for reading  ?\n",
        "try:\n",
        "    with open(\"nofile.txt\", \"r\") as f:\n",
        "        print(f.read())\n",
        "except FileNotFoundError:\n",
        "    print(\"File does not exist.\")"
      ],
      "metadata": {
        "id": "C664jvDLmAbM"
      },
      "execution_count": null,
      "outputs": []
    },
    {
      "cell_type": "code",
      "source": [
        "#4 Write a Python script that reads from one file and writes its content to another file ?\n",
        "with open(\"file1.txt\", \"r\") as f1, open(\"file2.txt\", \"w\") as f2:\n",
        "    f2.write(f1.read())"
      ],
      "metadata": {
        "id": "I_5GecozmAXo"
      },
      "execution_count": null,
      "outputs": []
    },
    {
      "cell_type": "code",
      "source": [
        "#5 How would you catch and handle division by zero error in Python  ?\n",
        "try:\n",
        "    result = 10 / 0\n",
        "except ZeroDivisionError:\n",
        "    print(\"Cannot divide by zero.\")"
      ],
      "metadata": {
        "id": "T2xv5pxQmAVN"
      },
      "execution_count": null,
      "outputs": []
    },
    {
      "cell_type": "code",
      "source": [
        "#6 Write a Python program that logs an error message to a log file when a division by zero exception occurs ?\n",
        "import logging\n",
        "logging.basicConfig(filename=\"app.log\", level=logging.ERROR)\n",
        "try:\n",
        "    result = 10 / 0\n",
        "except ZeroDivisionError:\n",
        "    logging.error(\"Division by zero error!\")"
      ],
      "metadata": {
        "id": "wolcC0KUmAS3"
      },
      "execution_count": null,
      "outputs": []
    },
    {
      "cell_type": "code",
      "source": [
        "#7 How do you log information at different levels (INFO, ERROR, WARNING) in Python using the logging module  ?\n",
        "import logging\n",
        "logging.basicConfig(level=logging.DEBUG)\n",
        "logging.info(\"This is info\")\n",
        "logging.warning(\"This is warning\")\n",
        "logging.error(\"This is error\")"
      ],
      "metadata": {
        "id": "u-olu8vkmAQU"
      },
      "execution_count": null,
      "outputs": []
    },
    {
      "cell_type": "code",
      "source": [
        "#8 Write a program to handle a file opening error using exception handling ?\n",
        "try:\n",
        "    f = open(\"abc.txt\", \"r\")\n",
        "except FileNotFoundError:\n",
        "    print(\"File not found\")"
      ],
      "metadata": {
        "id": "7aaLLMptmAOB"
      },
      "execution_count": null,
      "outputs": []
    },
    {
      "cell_type": "code",
      "source": [
        "#9 How can you read a file line by line and store its content in a list in Python  ?\n",
        "with open(\"file.txt\", \"r\") as f:\n",
        "    lines = [line.strip() for line in f]\n",
        "print(lines)"
      ],
      "metadata": {
        "id": "3eCPWjGVmALc"
      },
      "execution_count": null,
      "outputs": []
    },
    {
      "cell_type": "code",
      "source": [
        "#10 How can you append data to an existing file in Python ?\n",
        "with open(\"file.txt\", \"a\") as f:\n",
        "    f.write(\"\\nNew line added\")"
      ],
      "metadata": {
        "id": "UT8yZZXjmAEa"
      },
      "execution_count": null,
      "outputs": []
    },
    {
      "cell_type": "code",
      "source": [
        "#11 Write a Python program that uses a try-except block to handle an error when attempting to access a dictionary key that doesn't exist ?\n",
        "data = {\"a\": 1}\n",
        "try:\n",
        "    print(data[\"b\"])\n",
        "except KeyError:\n",
        "    print(\"Key not found\")"
      ],
      "metadata": {
        "id": "LQxUn398mAB2"
      },
      "execution_count": null,
      "outputs": []
    },
    {
      "cell_type": "code",
      "source": [
        "#12 Write a program that demonstrates using multiple except blocks to handle different types of exceptions ?\n",
        "try:\n",
        "    lst = [1, 2, 3]\n",
        "    print(lst[5])\n",
        "except IndexError:\n",
        "    print(\"Index error\")\n",
        "except KeyError:\n",
        "    print(\"Key error\")"
      ],
      "metadata": {
        "id": "oeNfj2fVl_-r"
      },
      "execution_count": null,
      "outputs": []
    },
    {
      "cell_type": "code",
      "source": [
        "#13 How would you check if a file exists before attempting to read it in Python  ?\n",
        "import os\n",
        "if os.path.exists(\"file.txt\"):\n",
        "    print(\"File exists\")"
      ],
      "metadata": {
        "id": "sKJUUkNOl_8k"
      },
      "execution_count": null,
      "outputs": []
    },
    {
      "cell_type": "code",
      "source": [
        "#14 Write a program that uses the logging module to log both informational and error messages ?\n",
        "import logging\n",
        "logging.basicConfig(filename=\"log.txt\", level=logging.DEBUG)\n",
        "logging.info(\"This is info\")\n",
        "logging.error(\"This is error\")"
      ],
      "metadata": {
        "id": "5RWQKUhgl_yX"
      },
      "execution_count": null,
      "outputs": []
    },
    {
      "cell_type": "code",
      "source": [
        "#15 Write a Python program that prints the content of a file and handles the case when the file is empty ?\n",
        "with open(\"file.txt\", \"r\") as f:\n",
        "    content = f.read()\n",
        "    if not content:\n",
        "        print(\"File is empty\")\n",
        "    else:\n",
        "        print(content)"
      ],
      "metadata": {
        "id": "dZJhhTCEnZ8b"
      },
      "execution_count": null,
      "outputs": []
    },
    {
      "cell_type": "code",
      "source": [
        "#16 Demonstrate how to use memory profiling to check the memory usage of a small program ?\n",
        "import tracemalloc\n",
        "tracemalloc.start()\n",
        "x = [i for i in range(1000)]\n",
        "print(tracemalloc.get_traced_memory())\n",
        "tracemalloc.stop()"
      ],
      "metadata": {
        "id": "mXnORw6jnaQ8"
      },
      "execution_count": null,
      "outputs": []
    },
    {
      "cell_type": "code",
      "source": [
        "#17 Write a Python program to create and write a list of numbers to a file, one number per line ?\n",
        "nums = [1, 2, 3, 4]\n",
        "with open(\"numbers.txt\", \"w\") as f:\n",
        "    for num in nums:\n",
        "        f.write(str(num) + \"\\n\")"
      ],
      "metadata": {
        "id": "0APyFNblnZvq"
      },
      "execution_count": null,
      "outputs": []
    },
    {
      "cell_type": "code",
      "source": [
        "#18 How would you implement a basic logging setup that logs to a file with rotation after 1MB ?\n",
        "import logging\n",
        "from logging.handlers import RotatingFileHandler\n",
        "handler = RotatingFileHandler(\"app.log\", maxBytes=1024*1024, backupCount=3)\n",
        "logging.basicConfig(handlers=[handler], level=logging.INFO)\n",
        "logging.info(\"Test log\")"
      ],
      "metadata": {
        "id": "OS8nlW2nnZpc"
      },
      "execution_count": null,
      "outputs": []
    },
    {
      "cell_type": "code",
      "source": [
        "#19 Write a program that handles both Index Error and Key Error using a try-except block ?\n",
        "try:\n",
        "    lst = [1]\n",
        "    print(lst[2])\n",
        "    d = {}\n",
        "    print(d[\"a\"])\n",
        "except IndexError:\n",
        "    print(\"Index out of range\")\n",
        "except KeyError:\n",
        "    print(\"Key not found\")"
      ],
      "metadata": {
        "id": "9PmM22FmnZkj"
      },
      "execution_count": null,
      "outputs": []
    },
    {
      "cell_type": "code",
      "source": [
        "#20 How would you open a file and read its contents using a context manager in Python  ?\n",
        "with open(\"file.txt\", \"r\") as f:\n",
        "    print(f.read())"
      ],
      "metadata": {
        "id": "hsFoFymrnZfR"
      },
      "execution_count": null,
      "outputs": []
    },
    {
      "cell_type": "code",
      "source": [
        "#21 Write a Python program that reads a file and prints the number of occurrences of a specific word ?\n",
        "word = \"hello\"\n",
        "count = 0\n",
        "with open(\"file.txt\", \"r\") as f:\n",
        "    for line in f:\n",
        "        count += line.count(word)\n",
        "print(count)"
      ],
      "metadata": {
        "id": "sL8yoYy6nZZC"
      },
      "execution_count": null,
      "outputs": []
    },
    {
      "cell_type": "code",
      "source": [
        "#22 How can you check if a file is empty before attempting to read its contents  ?\n",
        "import os\n",
        "if os.path.exists(\"file.txt\") and os.stat(\"file.txt\").st_size == 0:\n",
        "    print(\"File is empty\")"
      ],
      "metadata": {
        "id": "vlsx7oUMnobM"
      },
      "execution_count": null,
      "outputs": []
    },
    {
      "cell_type": "code",
      "source": [
        "#23 Write a Python program that writes to a log file when an error occurs during file handling.\n",
        "import logging\n",
        "logging.basicConfig(filename=\"error.log\", level=logging.ERROR)\n",
        "try:\n",
        "    with open(\"nofile.txt\", \"r\") as f:\n",
        "        print(f.read())\n",
        "except FileNotFoundError as e:\n",
        "    logging.error(f\"Error: {e}\")"
      ],
      "metadata": {
        "id": "TDBpCqUlnZQu"
      },
      "execution_count": null,
      "outputs": []
    }
  ]
}