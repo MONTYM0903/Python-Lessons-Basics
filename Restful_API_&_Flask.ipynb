{
  "nbformat": 4,
  "nbformat_minor": 0,
  "metadata": {
    "colab": {
      "provenance": []
    },
    "kernelspec": {
      "name": "python3",
      "display_name": "Python 3"
    },
    "language_info": {
      "name": "python"
    }
  },
  "cells": [
    {
      "cell_type": "markdown",
      "source": [
        "\n",
        "# 1. What is a RESTful API?\n",
        "\n",
        "ANS - A RESTful API is a way for different applications to talk to each other over the internet using HTTP methods like **GET, POST, PUT, DELETE**. REST stands for Representational State Transfer. Data is usually exchanged in JSON format. **For example**, if we have an API /students, a GET request could fetch all students, and a POST request could add a new student. RESTful APIs are popular because they are simple, scalable, and easy to use."
      ],
      "metadata": {
        "id": "zncIWolEGe0S"
      }
    },
    {
      "cell_type": "markdown",
      "source": [
        "# 2. Explain the concept of API specification ?\n",
        "\n",
        "ANS - An API specification is like a contract that explains how an API works. It tells developers **what endpoints are available, what data is needed, and what response will come back.**\n",
        "\n",
        "For example, in Swagger/OpenAPI docs, an API spec may say:\n",
        "Endpoint: /students/{id}\n",
        "Method: GET\n",
        "Response: JSON with student details.\n",
        "\n",
        "**This helps developers understand how to use the API correctly without seeing the code.**"
      ],
      "metadata": {
        "id": "PB07VX1zGiOV"
      }
    },
    {
      "cell_type": "markdown",
      "source": [
        "# 3. What is Flask, and why is it popular for building APls?\n",
        "\n",
        "ANS -Flask is a lightweight Python web framework used to build web apps and APIs. It is popular because:\n",
        "\n",
        "Easy to learn and use.\n",
        "Provides routing, templates, and request handling.\n",
        "Flexible, with many extensions like Flask-SQLAlchemy and Flask-RESTful.\n",
        "\n",
        "Example:\n",
        "from flask import Flask\n",
        "app = Flask(__name__)\n",
        "@app.route(\"/\")\n",
        "def hello():\n",
        "    return \"Hello Flask!\"\n",
        "  \n",
        "**Flask is chosen for small-to-medium apps and fast prototyping.**"
      ],
      "metadata": {
        "id": "Ebym-nQRGmKV"
      }
    },
    {
      "cell_type": "markdown",
      "source": [
        "# 4. What is routing in Flask?\n",
        "\n",
        " ANS - Routing in Flask means **connecting a URL to a specific function**. When a user visits that URL, Flask calls the function and returns the result.\n",
        "\n",
        " For Example:\n",
        " @app.route(\"/hello\")\n",
        "def hello():\n",
        "    return \"Hello Route!\"\n",
        "\n",
        "Here /hello is the route, and whenever it’s visited, the function hello() runs. Routing makes it possible to create different pages or API endpoints in a Flask app."
      ],
      "metadata": {
        "id": "KMUrXdVUGmrh"
      }
    },
    {
      "cell_type": "markdown",
      "source": [
        "# 5. How do you create a simple Flask application?\n",
        "\n",
        "ANS- To create a simple Flask app:\n",
        "\n",
        "STEP1 - Install Flask → pip install flask\n",
        "\n",
        "STEP2 - Create app.py file with:\n",
        "\n",
        "from flask import Flask\n",
        "app = Flask(__name__)\n",
        "\n",
        "@app.route(\"/\")\n",
        "def home():\n",
        "    return \"My First Flask App!\"\n",
        "\n",
        "STEP 3 - Run using flask run.\n",
        "The app will run on http://127.0.0.1:5000.\n"
      ],
      "metadata": {
        "id": "pzqzinrxGnYc"
      }
    },
    {
      "cell_type": "markdown",
      "source": [
        "# 6. What are HTTP methods used in RESTful APls?\n",
        "\n",
        "ANS- Here's the main HTTP methods are:\n",
        "\n",
        "-> GET → Read data (e.g., get all students).\n",
        "-> POST → Create new data (e.g., add student).\n",
        "-> PUT → Update data (e.g., change student name).\n",
        "-> DELETE → Remove data.\n",
        "\n",
        "**Example:**\n",
        "GET /students → return all students.\n",
        "POST /students → add new student."
      ],
      "metadata": {
        "id": "fbyB1OrFGoLZ"
      }
    },
    {
      "cell_type": "markdown",
      "source": [
        "# 7. What is the purpose of the @opp.route() decorator in Flask?\n",
        "\n",
        "ANS- The @app.route() decorator tells Flask which function should run when a specific URL is visited.\n",
        "\n",
        "**Example:**\n",
        "@app.route(\"/about\")\n",
        "def about():\n",
        "    return \"About Page\"\n",
        "\n",
        "When you visit /about, the function about() runs. It basically connects routes (URLs) to functions."
      ],
      "metadata": {
        "id": "R2EUlEWrGpZy"
      }
    },
    {
      "cell_type": "markdown",
      "source": [
        "# 8. What is the difference between GET and POST HTTP methods?\n",
        "\n",
        "ANS- GET → Used to request data. Data is sent in the URL. Example: /search?name=John.\n",
        "\n",
        "POST → Used to send data to server. Data is sent in the request body.\n",
        "\n",
        "**Example:**\n",
        "\n",
        "# GET\n",
        "@app.route(\"/get_example\")\n",
        "def get_data():\n",
        "    return \"This is GET!\"\n",
        "\n",
        "# POST\n",
        "@app.route(\"/post_example\", methods=[\"POST\"])\n",
        "def post_data():\n",
        "    return \"This is POST!\"\n",
        "\n",
        "**POST is more secure for sending data like passwords.**"
      ],
      "metadata": {
        "id": "R4Vaa7zLG2c_"
      }
    },
    {
      "cell_type": "markdown",
      "source": [
        "# 9. How do you handle errors in Flask APls?\n",
        "\n",
        " ANS- Flask lets us handle errors using @app.errorhandler(). For example, if a page is not found, Flask gives a 404 error. We can customize it:\n",
        "\n",
        " @app.errorhandler(404)\n",
        "def not_found(e):\n",
        "    return {\"error\": \"Page not found\"}, 404\n",
        "\n",
        "This way, instead of plain HTML, we can return a JSON response. Error handling is important to give user-friendly messages and help clients understand what went wrong."
      ],
      "metadata": {
        "id": "LaQl1A5YG2-l"
      }
    },
    {
      "cell_type": "markdown",
      "source": [
        "# 10. How do you connect Flask to a SQL database?\n",
        "\n",
        "ANS- We can connect Flask to a database like MySQL or SQLite using Flask-SQLAlchemy.\n",
        "Steps:\n",
        "\n",
        "-> Install: pip install flask_sqlalchemy\n",
        "\n",
        "-> Configure in app:\n",
        "\n",
        "app.config['SQLALCHEMY_DATABASE_URI'] = 'sqlite:///students.db'\n",
        "db = SQLAlchemy(app)\n",
        "\n",
        "Now we can create models (tables) and interact with them using Python instead of writing raw SQL."
      ],
      "metadata": {
        "id": "d4DLQ679G37g"
      }
    },
    {
      "cell_type": "markdown",
      "source": [
        "# 11. What is the role of Flask-SQLAlchemy?\n",
        "\n",
        "ANS- Flask-SQLAlchemy is an extension that makes it easier to use databases with Flask. It helps us define models (classes) that map to database tables.\n",
        "\n",
        "**Example:**\n",
        "\n",
        "class Student(db.Model):\n",
        "    id = db.Column(db.Integer, primary_key=True)\n",
        "    name = db.Column(db.String(50))\n",
        "\n",
        "Here, Student is a model, and it creates a table automatically. SQLAlchemy allows us to do Student.query.all() instead of writing SELECT * FROM students."
      ],
      "metadata": {
        "id": "6aguV7b2G6Pi"
      }
    },
    {
      "cell_type": "markdown",
      "source": [
        "# 12. What are Flask blueprints, and how are they useful?\n",
        "\n",
        "ANS- Blueprints allow us to structure large Flask apps into smaller parts. Instead of putting all routes in app.py, we can create separate files for modules like auth, products, etc.\n",
        "\n",
        "**Example:**\n",
        "\n",
        "from flask import Blueprint\n",
        "auth_bp = Blueprint('auth', __name__)\n",
        "\n",
        "@auth_bp.route(\"/login\")\n",
        "def login():\n",
        "    return \"Login Page\"\n",
        "\n",
        "Then we register it in the main app. Blueprints make apps organized and modular."
      ],
      "metadata": {
        "id": "BDOS6ofWG6uh"
      }
    },
    {
      "cell_type": "markdown",
      "source": [
        "# 13. What is the purpose of Flask's request object?\n",
        "\n",
        "ANS- The request object holds all data sent by the client (like browser or app) in an HTTP request.\n",
        "\n",
        "**Example:**\n",
        "\n",
        "from flask import request\n",
        "\n",
        "@app.route(\"/greet\", methods=[\"POST\"])\n",
        "def greet():\n",
        "    name = request.form.get(\"name\")\n",
        "    return f\"Hello {name}\"\n",
        "\n",
        "Here, request.form fetches form data. Similarly, request.args fetches query parameters. It helps us access headers, JSON, or uploaded files."
      ],
      "metadata": {
        "id": "1FvJ8EW6G7Og"
      }
    },
    {
      "cell_type": "markdown",
      "source": [
        "# 14. How do you create a RESTful API endpoint using Flask?\n",
        "\n",
        "ANS- To create an API endpoint:\n",
        "\n",
        "@app.route(\"/students\", methods=[\"GET\"])\n",
        "def get_students():\n",
        "    return jsonify({\"students\": [\"John\", \"Alice\"]})\n",
        "\n",
        "This returns JSON data instead of HTML. By using different methods like GET, POST, PUT, DELETE, we can create a full REST API."
      ],
      "metadata": {
        "id": "7x2pTJijG8VS"
      }
    },
    {
      "cell_type": "markdown",
      "source": [
        "# 15. What is the purpose of Flask's jsonify() function?\n",
        "\n",
        "ANS- jsonify() converts Python dictionaries or lists into proper JSON responses.\n",
        "**Example:**\n",
        "\n",
        "@app.route(\"/info\")\n",
        "def info():\n",
        "    return jsonify({\"course\": \"Python\", \"week\": 7})\n",
        "\n",
        "This ensures the response has Content-Type: application/json. It’s better than using return str(dict)."
      ],
      "metadata": {
        "id": "2aOB_OzhG9HP"
      }
    },
    {
      "cell_type": "markdown",
      "source": [
        "# 16. Explain Flask's url_for() function ?\n",
        "\n",
        " ANS- The url_for() function in Flask is used to generate URLs dynamically instead of hardcoding them. This is very helpful because if we later change the route path, we don’t need to update it everywhere in our code. It takes the function name (view function) as an argument and creates the correct URL. We can also pass parameters.\n",
        "\n",
        "** Example- **\n",
        "\n",
        "@app.route(\"/profile/<username>\")\n",
        "def profile(username):\n",
        "    return f\"Profile of {username}\"\n",
        "\n",
        "@app.route(\"/go\")\n",
        "def go():\n",
        "    return redirect(url_for(\"profile\", username=\"Alice\"))\n",
        "\n",
        "Here, url_for(\"profile\", username=\"Alice\") will generate /profile/Alice. This makes Flask applications easier to maintain and reduces errors when URLs change."
      ],
      "metadata": {
        "id": "Ufeg8eE9G9tx"
      }
    },
    {
      "cell_type": "markdown",
      "source": [
        "# 17. How does Flask handle static files (css, JavaScript, etc.)?\n",
        "\n",
        "ANS- Flask provides a special static/ folder to store files like CSS, JavaScript, and images. By default, any file in the static/ folder is available at the /static/ URL path. For example, if you put style.css inside static/, you can link it in your HTML using:\n",
        "\n",
        "<link rel=\"stylesheet\" href=\"{{ url_for('static', filename='style.css') }}\">\n",
        "\n",
        "Similarly, images like logo.png can be served with <img src=\"{{ url_for('static', filename='logo.png') }}\">. This system helps keep design (frontend) files separate from Python code. Flask automatically takes care of delivering these static files efficiently without us needing to write routes for them."
      ],
      "metadata": {
        "id": "2lpgH24oG-CD"
      }
    },
    {
      "cell_type": "markdown",
      "source": [
        "# 18. What is an API specification, and how does it help in building a Flask API?\n",
        "\n",
        "ANS- An API specification is like a contract that describes how an API works—what endpoints exist, what input they accept, what output they give, and what errors might occur. It usually includes details like HTTP methods, parameters, response format, and status codes. Tools like Swagger (OpenAPI) are often used to write specs.\n",
        "\n",
        "**Example-**\n",
        "\n",
        "GET /students/{id} → returns student info in JSON\n",
        "POST /students → creates new student\n",
        "\n",
        "When building Flask APIs, a clear API specification ensures developers and clients know exactly how to interact with the system, reducing misunderstandings and making testing easier."
      ],
      "metadata": {
        "id": "zsmJjAKdG-XX"
      }
    },
    {
      "cell_type": "markdown",
      "source": [
        "# 19. What are HTTP status codes, and why are they important in a Flask API?\n",
        "\n",
        "ANS- HTTP status codes are 3-digit numbers returned with responses to indicate the result of a request. They tell the client whether it was successful, had an error, or needs further action. Common examples are:\n",
        "\n",
        "-200 OK → request successful.\n",
        "-201 Created → new resource added.\n",
        "-400 Bad Request → invalid input.\n",
        "-404 Not Found → resource doesn’t exist.\n",
        "-500 Internal Server Error → server crashed.\n",
        "\n",
        "**Example- **\n",
        "\n",
        "return {\"error\": \"Not Found\"}, 404\n",
        "\n",
        "They are important because they help clients handle responses correctly instead of just relying on messages."
      ],
      "metadata": {
        "id": "w9auOx1_G-wn"
      }
    },
    {
      "cell_type": "markdown",
      "source": [
        "# 20. How do you handle POST requests in Flask?\n",
        "\n",
        "ANS- POST requests are used when clients send data to the server, usually to create or update something. In Flask, we handle POST by specifying methods=[\"POST\"] in the route. Data can be sent in form format or JSON.\n",
        "\n",
        "**Example-**\n",
        "\n",
        "from flask import request\n",
        "\n",
        "@app.route(\"/add\", methods=[\"POST\"])\n",
        "def add():\n",
        "    data = request.json\n",
        "    return {\"message\": f\"Received {data}\"}\n",
        "\n",
        "If the client sends { \"name\": \"Alice\" }, Flask reads it using request.json. POST is safer for sensitive data than GET because it does not appear in the URL. It is widely used in forms, login, and database insertions."
      ],
      "metadata": {
        "id": "VDkj7Se8G_Fb"
      }
    },
    {
      "cell_type": "markdown",
      "source": [
        "# 21. How would you secure a Flask API?\n",
        "\n",
        "ANS- Securing a Flask API is important to protect data and prevent unauthorized access. Some ways include:\n",
        "\n",
        "**Authentication**: Use tokens (JWT, OAuth) or API keys so only valid users can access endpoints.\n",
        "\n",
        "**Input Validation**: Check data before using it to prevent attacks like SQL injection.\n",
        "\n",
        "**HTTPS**: Encrypt traffic to avoid data leaks.\n",
        "\n",
        "**Rate Limiting**: Prevent abuse by limiting requests.\n",
        "\n",
        "**CORS control**: Use Flask-CORS to control which domains can access the API.\n",
        "\n",
        "**Example**: using Flask-JWT-Extended we can secure routes and require a valid token. Security ensures the API remains safe and reliable for users."
      ],
      "metadata": {
        "id": "ccnGi6XAHASB"
      }
    },
    {
      "cell_type": "markdown",
      "source": [
        "# 22. What is the significance of the Flask-RESTful extension?\n",
        "\n",
        "ANS- Flask-RESTful is an extension that makes building REST APIs easier. Normally, with Flask we use @app.route(), but with Flask-RESTful we can create APIs using classes. This makes the code more structured, especially in large projects.\n",
        "\n",
        "**Example:**\n",
        "\n",
        "from flask_restful import Resource, Api\n",
        "\n",
        "api = Api(app)\n",
        "\n",
        "class Hello(Resource):\n",
        "    def get(self):\n",
        "        return {\"msg\": \"Hello\"}\n",
        "\n",
        "api.add_resource(Hello, \"/\")\n",
        "\n",
        "Here, instead of defining many functions, we define resources as classes. Flask-RESTful also supports things like request parsing, input validation, and error handling out-of-the-box. This makes it very useful for professional REST API development."
      ],
      "metadata": {
        "id": "2Yzv58-MHApF"
      }
    },
    {
      "cell_type": "markdown",
      "source": [
        "# 23. What is the role of Flask's session object?\n",
        "\n",
        "ANS- The session object in Flask is used to store information about a user across different requests. HTTP itself is stateless, which means the server forgets the user after each request. Sessions solve this problem by storing data in cookies that are signed (secure) using Flask’s secret key.\n",
        "\n",
        "**Example:**\n",
        "\n",
        "from flask import session\n",
        "\n",
        "@app.route(\"/login\")\n",
        "def login():\n",
        "    session[\"user\"] = \"Alice\"\n",
        "    return \"Logged in!\"\n",
        "\n",
        "@app.route(\"/profile\")\n",
        "def profile():\n",
        "    return f\"Welcome {session.get('user')}\"\n",
        "\n",
        "Here, after login, the session keeps track of the user name. Sessions are useful for login systems, shopping carts, and keeping user preferences."
      ],
      "metadata": {
        "id": "ZYJl7_yRHA-8"
      }
    },
    {
      "cell_type": "code",
      "source": [
        "# 1. How do you create a basic Flask application?\n",
        "\n",
        "#create app.py\n",
        "from flask import Flask\n",
        "app = Flask(__name__)\n",
        "\n",
        "@app.route(\"/\")\n",
        "def home():\n",
        "    return \"Hello, this is my first Flask app!\"\n",
        "\n",
        "if __name__ == \"__main__\":\n",
        "    app.run(debug=True)\n",
        "\n",
        "#Run → python app.py\n",
        "#Open in browser → http://127.0.0.1:5000/\n",
        "\n"
      ],
      "metadata": {
        "colab": {
          "base_uri": "https://localhost:8080/"
        },
        "id": "uHFMzxC6Hrkb",
        "outputId": "a502f7d3-31b5-403f-ad48-772f224841a0"
      },
      "execution_count": null,
      "outputs": [
        {
          "output_type": "stream",
          "name": "stdout",
          "text": [
            " * Serving Flask app '__main__'\n",
            " * Debug mode: on\n"
          ]
        },
        {
          "output_type": "stream",
          "name": "stderr",
          "text": [
            "INFO:werkzeug:\u001b[31m\u001b[1mWARNING: This is a development server. Do not use it in a production deployment. Use a production WSGI server instead.\u001b[0m\n",
            " * Running on http://127.0.0.1:5000\n",
            "INFO:werkzeug:\u001b[33mPress CTRL+C to quit\u001b[0m\n",
            "INFO:werkzeug: * Restarting with watchdog (inotify)\n"
          ]
        }
      ]
    },
    {
      "cell_type": "code",
      "source": [
        "# 2. How do you serve static files like images or CSS in Flask?\n",
        "#Folder structure: in arduino\n",
        "\n",
        "#app.py\n",
        "#static/style.css\n",
        "#static/logo.png\n",
        "\n",
        "from flask import Flask, render_template\n",
        "app = Flask(__name__)\n",
        "\n",
        "@app.route(\"/\")\n",
        "def home():\n",
        "    return \"\"\"\n",
        "    <html>\n",
        "    <head><link rel=\"stylesheet\" href=\"/static/style.css\"></head>\n",
        "    <body>\n",
        "        <h1>Hello Flask with CSS!</h1>\n",
        "        <img src=\"/static/logo.png\" width=\"150\">\n",
        "    </body>\n",
        "    </html>\n",
        "    \"\"\"\n",
        "\n",
        "if __name__ == \"__main__\":\n",
        "    app.run(debug=True)\n",
        "\n",
        "#Now CSS and image are served automatically."
      ],
      "metadata": {
        "colab": {
          "base_uri": "https://localhost:8080/"
        },
        "id": "sCXHRuTsIOAl",
        "outputId": "35baa69c-0ef6-4c1a-c656-054787cb84f6"
      },
      "execution_count": null,
      "outputs": [
        {
          "output_type": "stream",
          "name": "stdout",
          "text": [
            " * Serving Flask app '__main__'\n",
            " * Debug mode: on\n"
          ]
        },
        {
          "output_type": "stream",
          "name": "stderr",
          "text": [
            "INFO:werkzeug:\u001b[31m\u001b[1mWARNING: This is a development server. Do not use it in a production deployment. Use a production WSGI server instead.\u001b[0m\n",
            " * Running on http://127.0.0.1:5000\n",
            "INFO:werkzeug:\u001b[33mPress CTRL+C to quit\u001b[0m\n",
            "INFO:werkzeug: * Restarting with watchdog (inotify)\n"
          ]
        }
      ]
    },
    {
      "cell_type": "code",
      "source": [
        "# 3. How do you define different routes with different HTTP methods in Flask?\n",
        "from flask import Flask, request\n",
        "#Running the flask app\n",
        "app = Flask(__name__)\n",
        "@app.route(\"/hello\", methods=[\"GET\"])\n",
        "def hello():\n",
        "    return \"This is GET request!\"\n",
        "\n",
        "@app.route(\"/hello\", methods=[\"POST\"])\n",
        "def hello_post():\n",
        "    data = request.json\n",
        "    return {\"message\": f\"Hello {data['name']}\"}\n",
        "\n",
        "if __name__ == \"__main__\":\n",
        "    app.run(debug=True)\n",
        "\n"
      ],
      "metadata": {
        "colab": {
          "base_uri": "https://localhost:8080/"
        },
        "id": "FbU-fkIJIQ9N",
        "outputId": "77996193-d658-4e03-b75a-3fb3c80f2147"
      },
      "execution_count": null,
      "outputs": [
        {
          "output_type": "stream",
          "name": "stdout",
          "text": [
            " * Serving Flask app '__main__'\n",
            " * Debug mode: on\n"
          ]
        },
        {
          "output_type": "stream",
          "name": "stderr",
          "text": [
            "INFO:werkzeug:\u001b[31m\u001b[1mWARNING: This is a development server. Do not use it in a production deployment. Use a production WSGI server instead.\u001b[0m\n",
            " * Running on http://127.0.0.1:5000\n",
            "INFO:werkzeug:\u001b[33mPress CTRL+C to quit\u001b[0m\n",
            "INFO:werkzeug: * Restarting with watchdog (inotify)\n"
          ]
        }
      ]
    },
    {
      "cell_type": "code",
      "source": [
        "# 4. How do you render HTML templates in Flask?\n",
        "#Template index.html\n",
        "''' <html>\n",
        "<head><title>Flask Template</title></head>\n",
        "<body>\n",
        "    <h1>Hello {{ name }}</h1>\n",
        "</body>\n",
        "</html> '''\n",
        "\n",
        "from flask import Flask, render_template\n",
        "app = Flask(__name__)\n",
        "\n",
        "@app.route(\"/\")\n",
        "def home():\n",
        "    return render_template(\"index.html\", name=\"Alice\")\n",
        "\n",
        "if __name__ == \"__main__\":\n",
        "    app.run(debug=True)"
      ],
      "metadata": {
        "colab": {
          "base_uri": "https://localhost:8080/"
        },
        "id": "JfauaRx3IUeO",
        "outputId": "278e04c5-b6fa-49d7-f29b-f4ff80c9f725"
      },
      "execution_count": null,
      "outputs": [
        {
          "output_type": "stream",
          "name": "stdout",
          "text": [
            " * Serving Flask app '__main__'\n",
            " * Debug mode: on\n"
          ]
        },
        {
          "output_type": "stream",
          "name": "stderr",
          "text": [
            "INFO:werkzeug:\u001b[31m\u001b[1mWARNING: This is a development server. Do not use it in a production deployment. Use a production WSGI server instead.\u001b[0m\n",
            " * Running on http://127.0.0.1:5000\n",
            "INFO:werkzeug:\u001b[33mPress CTRL+C to quit\u001b[0m\n",
            "INFO:werkzeug: * Restarting with watchdog (inotify)\n"
          ]
        }
      ]
    },
    {
      "cell_type": "code",
      "source": [
        "# 5. How can you generate URLs for routes in Flask using url_for?\n",
        "from flask import Flask, url_for, redirect\n",
        "app = Flask(__name__)\n",
        "\n",
        "@app.route(\"/\")\n",
        "def home():\n",
        "    return \"Home Page\"\n",
        "\n",
        "@app.route(\"/about\")\n",
        "def about():\n",
        "    return \"About Page\"\n",
        "\n",
        "@app.route(\"/go\")\n",
        "def go():\n",
        "    # redirect to about page using url_for\n",
        "    return redirect(url_for(\"about\"))\n",
        "\n",
        "if __name__ == \"__main__\":\n",
        "    app.run(debug=True)"
      ],
      "metadata": {
        "colab": {
          "base_uri": "https://localhost:8080/"
        },
        "id": "-Hx13P0OIWT2",
        "outputId": "c7f1eac5-0dd5-4338-deec-b918e1620a54"
      },
      "execution_count": null,
      "outputs": [
        {
          "output_type": "stream",
          "name": "stdout",
          "text": [
            " * Serving Flask app '__main__'\n",
            " * Debug mode: on\n"
          ]
        },
        {
          "output_type": "stream",
          "name": "stderr",
          "text": [
            "INFO:werkzeug:\u001b[31m\u001b[1mWARNING: This is a development server. Do not use it in a production deployment. Use a production WSGI server instead.\u001b[0m\n",
            " * Running on http://127.0.0.1:5000\n",
            "INFO:werkzeug:\u001b[33mPress CTRL+C to quit\u001b[0m\n",
            "INFO:werkzeug: * Restarting with watchdog (inotify)\n"
          ]
        }
      ]
    },
    {
      "cell_type": "code",
      "source": [
        "# 6. How do you handle forms in Flask?\n",
        "#Template/form.html\n",
        "'''\n",
        "<html>\n",
        "<body>\n",
        "    <form method=\"POST\" action=\"/submit\">\n",
        "        Name: <input type=\"text\" name=\"name\"><br>\n",
        "        <button type=\"submit\">Submit</button>\n",
        "    </form>\n",
        "</body>\n",
        "</html>\n",
        "'''\n",
        "\n",
        "from flask import Flask, request, render_template\n",
        "app = Flask(__name__)\n",
        "\n",
        "@app.route(\"/\")\n",
        "def form():\n",
        "    return render_template(\"form.html\")\n",
        "\n",
        "@app.route(\"/submit\", methods=[\"POST\"])\n",
        "def submit():\n",
        "    name = request.form.get(\"name\")\n",
        "    return f\"Hello {name}, form submitted successfully!\"\n",
        "\n",
        "if __name__ == \"__main__\":\n",
        "    app.run(debug=True)"
      ],
      "metadata": {
        "colab": {
          "base_uri": "https://localhost:8080/"
        },
        "id": "jw0JKVbVIX8L",
        "outputId": "17220d71-6191-4050-c6fa-35a328118e02"
      },
      "execution_count": null,
      "outputs": [
        {
          "output_type": "stream",
          "name": "stdout",
          "text": [
            " * Serving Flask app '__main__'\n",
            " * Debug mode: on\n"
          ]
        },
        {
          "output_type": "stream",
          "name": "stderr",
          "text": [
            "INFO:werkzeug:\u001b[31m\u001b[1mWARNING: This is a development server. Do not use it in a production deployment. Use a production WSGI server instead.\u001b[0m\n",
            " * Running on http://127.0.0.1:5000\n",
            "INFO:werkzeug:\u001b[33mPress CTRL+C to quit\u001b[0m\n",
            "INFO:werkzeug: * Restarting with watchdog (inotify)\n"
          ]
        }
      ]
    },
    {
      "cell_type": "code",
      "source": [
        "# 7. How can you validate form data in Flask?\n",
        "from flask import Flask, request\n",
        "app = Flask(__name__)\n",
        "\n",
        "@app.route(\"/register\", methods=[\"POST\"])\n",
        "def register():\n",
        "    name = request.form.get(\"name\")\n",
        "    if not name:\n",
        "        return \"Error: Name is required\", 400\n",
        "    return f\"Welcome {name}!\"\n",
        "\n",
        "if __name__ == \"__main__\":\n",
        "    app.run(debug=True)"
      ],
      "metadata": {
        "colab": {
          "base_uri": "https://localhost:8080/"
        },
        "id": "lL-pqCRPIZoJ",
        "outputId": "461826b2-567f-4470-f469-102cfe70fae3"
      },
      "execution_count": null,
      "outputs": [
        {
          "output_type": "stream",
          "name": "stdout",
          "text": [
            " * Serving Flask app '__main__'\n",
            " * Debug mode: on\n"
          ]
        },
        {
          "output_type": "stream",
          "name": "stderr",
          "text": [
            "INFO:werkzeug:\u001b[31m\u001b[1mWARNING: This is a development server. Do not use it in a production deployment. Use a production WSGI server instead.\u001b[0m\n",
            " * Running on http://127.0.0.1:5000\n",
            "INFO:werkzeug:\u001b[33mPress CTRL+C to quit\u001b[0m\n",
            "INFO:werkzeug: * Restarting with watchdog (inotify)\n"
          ]
        }
      ]
    },
    {
      "cell_type": "code",
      "source": [
        "# 8. How do you manage sessions in Flask?\n",
        "from flask import Flask, session\n",
        "app = Flask(__name__)\n",
        "app.secret_key = \"mysecretkey\"\n",
        "\n",
        "@app.route(\"/login\")\n",
        "def login():\n",
        "    session[\"user\"] = \"Alice\"\n",
        "    return \"User logged in!\"\n",
        "\n",
        "@app.route(\"/profile\")\n",
        "def profile():\n",
        "    user = session.get(\"user\")\n",
        "    return f\"Welcome {user}\" if user else \"No user logged in.\"\n",
        "\n",
        "if __name__ == \"__main__\":\n",
        "    app.run(debug=True)"
      ],
      "metadata": {
        "colab": {
          "base_uri": "https://localhost:8080/"
        },
        "id": "em1l3rDZIa-v",
        "outputId": "2226db94-4038-4df7-f7f8-ac81f68b64a4"
      },
      "execution_count": null,
      "outputs": [
        {
          "output_type": "stream",
          "name": "stdout",
          "text": [
            " * Serving Flask app '__main__'\n",
            " * Debug mode: on\n"
          ]
        },
        {
          "output_type": "stream",
          "name": "stderr",
          "text": [
            "INFO:werkzeug:\u001b[31m\u001b[1mWARNING: This is a development server. Do not use it in a production deployment. Use a production WSGI server instead.\u001b[0m\n",
            " * Running on http://127.0.0.1:5000\n",
            "INFO:werkzeug:\u001b[33mPress CTRL+C to quit\u001b[0m\n",
            "INFO:werkzeug: * Restarting with watchdog (inotify)\n"
          ]
        }
      ]
    },
    {
      "cell_type": "code",
      "source": [
        "# 9. How do you redirect to a different route in Flask?\n",
        "from flask import Flask, redirect, url_for\n",
        "app = Flask(__name__)\n",
        "\n",
        "@app.route(\"/\")\n",
        "def home():\n",
        "    return \"Home Page\"\n",
        "\n",
        "@app.route(\"/go\")\n",
        "def go():\n",
        "    return redirect(url_for(\"home\"))  # redirect to home page\n",
        "\n",
        "if __name__ == \"__main__\":\n",
        "    app.run(debug=True)"
      ],
      "metadata": {
        "colab": {
          "base_uri": "https://localhost:8080/"
        },
        "id": "m_bqk1ekIcuq",
        "outputId": "b94f4ddf-d616-4188-937b-4c971e12b0c0"
      },
      "execution_count": null,
      "outputs": [
        {
          "output_type": "stream",
          "name": "stdout",
          "text": [
            " * Serving Flask app '__main__'\n",
            " * Debug mode: on\n"
          ]
        },
        {
          "output_type": "stream",
          "name": "stderr",
          "text": [
            "INFO:werkzeug:\u001b[31m\u001b[1mWARNING: This is a development server. Do not use it in a production deployment. Use a production WSGI server instead.\u001b[0m\n",
            " * Running on http://127.0.0.1:5000\n",
            "INFO:werkzeug:\u001b[33mPress CTRL+C to quit\u001b[0m\n",
            "INFO:werkzeug: * Restarting with watchdog (inotify)\n"
          ]
        }
      ]
    },
    {
      "cell_type": "code",
      "source": [
        "# 10. How do you handle errors in Flask (e.g., 404)?\n",
        "from flask import Flask\n",
        "app = Flask(__name__)\n",
        "\n",
        "@app.errorhandler(404)\n",
        "def not_found(e):\n",
        "    return {\"error\": \"Page not found\"}, 404\n",
        "\n",
        "@app.errorhandler(500)\n",
        "def server_error(e):\n",
        "    return {\"error\": \"Server error\"}, 500\n",
        "\n",
        "@app.route(\"/\")\n",
        "def home():\n",
        "    return \"Home Page\"\n",
        "\n",
        "if __name__ == \"__main__\":\n",
        "    app.run(debug=True)\n",
        "\n",
        "# Now, if you visit an invalid route (/abc), you’ll see a JSON error message."
      ],
      "metadata": {
        "id": "Q-WdtznLIeO_"
      },
      "execution_count": null,
      "outputs": []
    },
    {
      "cell_type": "code",
      "source": [
        "# 11. How do you structure a Flask opp using Blueprints?\n",
        "#blueprints/auth.py\n",
        "'''\n",
        "from flask import Blueprint\n",
        "\n",
        "auth_bp = Blueprint(\"auth\", __name__)\n",
        "\n",
        "@auth_bp.route(\"/login\")\n",
        "def login():\n",
        "    return \"Login Page\"\n",
        "\n",
        "@auth_bp.route(\"/logout\")\n",
        "def logout():\n",
        "    return \"Logout Page\"\n",
        "'''\n",
        "\n",
        "#app.py\n",
        "\n",
        "from flask import Flask\n",
        "from blueprints.auth import auth_bp\n",
        "\n",
        "app = Flask(__name__)\n",
        "app.register_blueprint(auth_bp, url_prefix=\"/auth\")\n",
        "\n",
        "@app.route(\"/\")\n",
        "def home():\n",
        "    return \"Main Home Page\"\n",
        "\n",
        "if __name__ == \"__main__\":\n",
        "    app.run(debug=True)\n",
        "\n",
        "#separate file will be created for with blueprint/auth.py and merge them to complete the file"
      ],
      "metadata": {
        "colab": {
          "base_uri": "https://localhost:8080/",
          "height": 384
        },
        "id": "yyeG6nplIf6M",
        "outputId": "8b0147b2-4f4b-405a-9617-e87220ffeee3"
      },
      "execution_count": null,
      "outputs": [
        {
          "output_type": "error",
          "ename": "ModuleNotFoundError",
          "evalue": "No module named 'blueprints'",
          "traceback": [
            "\u001b[0;31m---------------------------------------------------------------------------\u001b[0m",
            "\u001b[0;31mModuleNotFoundError\u001b[0m                       Traceback (most recent call last)",
            "\u001b[0;32m/tmp/ipython-input-4020849534.py\u001b[0m in \u001b[0;36m<cell line: 0>\u001b[0;34m()\u001b[0m\n\u001b[1;32m     18\u001b[0m \u001b[0;34m\u001b[0m\u001b[0m\n\u001b[1;32m     19\u001b[0m \u001b[0;32mfrom\u001b[0m \u001b[0mflask\u001b[0m \u001b[0;32mimport\u001b[0m \u001b[0mFlask\u001b[0m\u001b[0;34m\u001b[0m\u001b[0;34m\u001b[0m\u001b[0m\n\u001b[0;32m---> 20\u001b[0;31m \u001b[0;32mfrom\u001b[0m \u001b[0mblueprints\u001b[0m\u001b[0;34m.\u001b[0m\u001b[0mauth\u001b[0m \u001b[0;32mimport\u001b[0m \u001b[0mauth_bp\u001b[0m\u001b[0;34m\u001b[0m\u001b[0;34m\u001b[0m\u001b[0m\n\u001b[0m\u001b[1;32m     21\u001b[0m \u001b[0;34m\u001b[0m\u001b[0m\n\u001b[1;32m     22\u001b[0m \u001b[0mapp\u001b[0m \u001b[0;34m=\u001b[0m \u001b[0mFlask\u001b[0m\u001b[0;34m(\u001b[0m\u001b[0m__name__\u001b[0m\u001b[0;34m)\u001b[0m\u001b[0;34m\u001b[0m\u001b[0;34m\u001b[0m\u001b[0m\n",
            "\u001b[0;31mModuleNotFoundError\u001b[0m: No module named 'blueprints'",
            "",
            "\u001b[0;31m---------------------------------------------------------------------------\u001b[0;32m\nNOTE: If your import is failing due to a missing package, you can\nmanually install dependencies using either !pip or !apt.\n\nTo view examples of installing some common dependencies, click the\n\"Open Examples\" button below.\n\u001b[0;31m---------------------------------------------------------------------------\u001b[0m\n"
          ],
          "errorDetails": {
            "actions": [
              {
                "action": "open_url",
                "actionText": "Open Examples",
                "url": "/notebooks/snippets/importing_libraries.ipynb"
              }
            ]
          }
        }
      ]
    },
    {
      "cell_type": "code",
      "source": [
        "# 12. How do you define a custom Jinja filter in Flask?\n",
        "'''\n",
        "template/index.html\n",
        "\n",
        "<h1>Hello {{ name|reverse }}</h1>\n",
        "\n",
        "'''\n",
        "\n",
        "from flask import Flask, render_template\n",
        "app = Flask(__name__)\n",
        "\n",
        "# custom filter\n",
        "def reverse_string(s):\n",
        "    return s[::-1]\n",
        "\n",
        "app.jinja_env.filters[\"reverse\"] = reverse_string\n",
        "\n",
        "@app.route(\"/\")\n",
        "def home():\n",
        "    return render_template(\"index.html\", name=\"Alice\")\n",
        "\n",
        "if __name__ == \"__main__\":\n",
        "    app.run(debug=True)"
      ],
      "metadata": {
        "colab": {
          "base_uri": "https://localhost:8080/"
        },
        "id": "1nhU2PkZIhLk",
        "outputId": "7bd00b9f-d8ad-42b8-8c49-4effdae5e2e0"
      },
      "execution_count": null,
      "outputs": [
        {
          "output_type": "stream",
          "name": "stdout",
          "text": [
            " * Serving Flask app '__main__'\n",
            " * Debug mode: on\n"
          ]
        },
        {
          "output_type": "stream",
          "name": "stderr",
          "text": [
            "INFO:werkzeug:\u001b[31m\u001b[1mWARNING: This is a development server. Do not use it in a production deployment. Use a production WSGI server instead.\u001b[0m\n",
            " * Running on http://127.0.0.1:5000\n",
            "INFO:werkzeug:\u001b[33mPress CTRL+C to quit\u001b[0m\n",
            "INFO:werkzeug: * Restarting with watchdog (inotify)\n"
          ]
        }
      ]
    },
    {
      "cell_type": "code",
      "source": [
        "# 13. How can you redirect with query parameters in Flask?\n",
        "\n",
        "from flask import Flask, redirect, url_for, request\n",
        "app = Flask(__name__)\n",
        "\n",
        "@app.route(\"/search\")\n",
        "def search():\n",
        "    query = request.args.get(\"q\")\n",
        "    return f\"Search results for: {query}\"\n",
        "\n",
        "@app.route(\"/go\")\n",
        "def go():\n",
        "    return redirect(url_for(\"search\", q=\"Python\"))\n",
        "\n",
        "if __name__ == \"__main__\":\n",
        "    app.run(debug=True)\n",
        "\n",
        "#Visiting /go redirects to /search?q=Python."
      ],
      "metadata": {
        "colab": {
          "base_uri": "https://localhost:8080/"
        },
        "id": "LyTFSPmRIioN",
        "outputId": "826ad375-6a31-41af-fca6-81878848fea9"
      },
      "execution_count": null,
      "outputs": [
        {
          "output_type": "stream",
          "name": "stdout",
          "text": [
            " * Serving Flask app '__main__'\n",
            " * Debug mode: on\n"
          ]
        },
        {
          "output_type": "stream",
          "name": "stderr",
          "text": [
            "INFO:werkzeug:\u001b[31m\u001b[1mWARNING: This is a development server. Do not use it in a production deployment. Use a production WSGI server instead.\u001b[0m\n",
            " * Running on http://127.0.0.1:5000\n",
            "INFO:werkzeug:\u001b[33mPress CTRL+C to quit\u001b[0m\n",
            "INFO:werkzeug: * Restarting with watchdog (inotify)\n"
          ]
        }
      ]
    },
    {
      "cell_type": "code",
      "source": [
        "# 14. How do you return JSON responses in Flask?\n",
        "\n",
        "from flask import Flask, jsonify\n",
        "app = Flask(__name__)\n",
        "\n",
        "@app.route(\"/students\")\n",
        "def students():\n",
        "    data = [\n",
        "        {\"id\": 1, \"name\": \"Alice\"},\n",
        "        {\"id\": 2, \"name\": \"Bob\"}\n",
        "    ]\n",
        "    return jsonify(data)\n",
        "\n",
        "if __name__ == \"__main__\":\n",
        "    app.run(debug=True)"
      ],
      "metadata": {
        "colab": {
          "base_uri": "https://localhost:8080/"
        },
        "id": "O-AQbY_ZIj94",
        "outputId": "759761d1-c4c3-41de-9ea8-8c7b7eb7d6ca"
      },
      "execution_count": null,
      "outputs": [
        {
          "output_type": "stream",
          "name": "stdout",
          "text": [
            " * Serving Flask app '__main__'\n",
            " * Debug mode: on\n"
          ]
        },
        {
          "output_type": "stream",
          "name": "stderr",
          "text": [
            "INFO:werkzeug:\u001b[31m\u001b[1mWARNING: This is a development server. Do not use it in a production deployment. Use a production WSGI server instead.\u001b[0m\n",
            " * Running on http://127.0.0.1:5000\n",
            "INFO:werkzeug:\u001b[33mPress CTRL+C to quit\u001b[0m\n",
            "INFO:werkzeug: * Restarting with watchdog (inotify)\n"
          ]
        }
      ]
    },
    {
      "cell_type": "code",
      "source": [
        "# 15. How do you capture URL parameters in Flask?\n",
        "\n",
        "from flask import Flask\n",
        "app = Flask(__name__)\n",
        "\n",
        "@app.route(\"/user/<username>\")\n",
        "def profile(username):\n",
        "    return f\"Hello {username}!\"\n",
        "\n",
        "@app.route(\"/post/<int:post_id>\")\n",
        "def post(post_id):\n",
        "    return f\"Post ID: {post_id}\"\n",
        "\n",
        "if __name__ == \"__main__\":\n",
        "    app.run(debug=True)\n",
        "\n"
      ],
      "metadata": {
        "colab": {
          "base_uri": "https://localhost:8080/"
        },
        "id": "5eCoIJKjIl4K",
        "outputId": "f614849c-92fb-4136-ce7d-93caf6e47e15"
      },
      "execution_count": null,
      "outputs": [
        {
          "output_type": "stream",
          "name": "stdout",
          "text": [
            " * Serving Flask app '__main__'\n",
            " * Debug mode: on\n"
          ]
        },
        {
          "output_type": "stream",
          "name": "stderr",
          "text": [
            "INFO:werkzeug:\u001b[31m\u001b[1mWARNING: This is a development server. Do not use it in a production deployment. Use a production WSGI server instead.\u001b[0m\n",
            " * Running on http://127.0.0.1:5000\n",
            "INFO:werkzeug:\u001b[33mPress CTRL+C to quit\u001b[0m\n",
            "INFO:werkzeug: * Restarting with watchdog (inotify)\n"
          ]
        }
      ]
    }
  ]
}