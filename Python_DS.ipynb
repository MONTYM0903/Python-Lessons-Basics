{
  "nbformat": 4,
  "nbformat_minor": 0,
  "metadata": {
    "colab": {
      "provenance": []
    },
    "kernelspec": {
      "name": "python3",
      "display_name": "Python 3"
    },
    "language_info": {
      "name": "python"
    }
  },
  "cells": [
    {
      "cell_type": "markdown",
      "source": [
        "# **1. What are data structures, and why are they important?**\n",
        "\n",
        "Data structures are ways to organize and store data in a program. They help us use data efficiently — for example, for searching, sorting, or updating values. Python has built-in data structures like lists, tuples, dictionaries, and sets."
      ],
      "metadata": {
        "id": "ReN2VbF5RnLn"
      }
    },
    {
      "cell_type": "markdown",
      "source": [
        "# **2. Difference between mutable and immutable data types (with examples)?**\n",
        "\n",
        "Mutable means the value can be changed after creation.\n",
        "Example: list, dict:-\n",
        "\n",
        "my_list = [1, 2]\n",
        "my_list[0] = 10  #Allowed\n",
        "\n",
        "Where as Immutable means the value cannot be changed.\n",
        "Example: int, str, tuple\n",
        "\n",
        "my_str = \"hello\"\n",
        "my_str[0] = \"H\"  #  Error / Not allowed\n",
        "\n"
      ],
      "metadata": {
        "id": "G1xKt0sdRnN-"
      }
    },
    {
      "cell_type": "markdown",
      "source": [
        "# **3. Main differences between lists and tuples ?**\n",
        "\n",
        "Feature\t                  List\t                 Tuple\n",
        "Changeable\t          Yes (mutable)\t        No (immutable)\n",
        "Syntax\t                [1, 2, 3]\t              (1, 2, 3)\n",
        "Speed\t                   Slower\t           Faster (read-only)\n",
        "Use case\t          Data that changes\t         Fixed data"
      ],
      "metadata": {
        "id": "IiNIdKrKRnTH"
      }
    },
    {
      "cell_type": "markdown",
      "source": [
        "# **4. How dictionaries store data ?**\n",
        "\n",
        "Dictionaries store data in **key-value pairs**. Each value is linked to a unique key. Example\n",
        "\n",
        "student = {\"name\": \"Ratan\", \"age\": 20}\n"
      ],
      "metadata": {
        "id": "VB09-DciRnW3"
      }
    },
    {
      "cell_type": "markdown",
      "source": [
        "# **5. Why use a set instead of a list?**\n",
        "\n",
        "-> Sets automatically remove duplicates.\n",
        "-> Sets are faster for checking if an item exists.\n",
        "-> Example\n",
        "\n",
        "my_set = {1, 2, 2, 3}\n",
        "print(my_set)  # Output: {1, 2, 3}"
      ],
      "metadata": {
        "id": "pRVEvajcRnZm"
      }
    },
    {
      "cell_type": "markdown",
      "source": [
        "# **6. What is a string, and how is it different from a list?**\n",
        "\n",
        "A string is a sequence of characters, like \"hello\".\n",
        "A string is immutable, A list is mutable\n",
        "A string can only hold characters, but a list can hold anything.\n",
        "Example -\n",
        "\n",
        "text = \"hello\"\n",
        "chars = ['h', 'e', 'l', 'l', 'o']"
      ],
      "metadata": {
        "id": "qahvwatERncC"
      }
    },
    {
      "cell_type": "markdown",
      "source": [
        "# **7. How do tuples ensure data integrity?**\n",
        "\n",
        "Tuples **can’t be changed** once created. So they are safe for storing fixed data like coordinates or days of the week.\n",
        "\n",
        "**This protects the data from being accidentally modified.**"
      ],
      "metadata": {
        "id": "RiRd5QTXRnei"
      }
    },
    {
      "cell_type": "markdown",
      "source": [
        "# **8. What is a hash table, and how does it relate to dictionaries?**\n",
        "\n",
        "A **hash table** is a way to s**tore data using a unique key**. Python dictionaries are built using hash tables, which is why they are **fast for looking up values by key**."
      ],
      "metadata": {
        "id": "g_LSPdZoRnhS"
      }
    },
    {
      "cell_type": "markdown",
      "source": [
        "# **9. Can lists contain different data types?**\n",
        "\n",
        "Yes! Python lists can store mixed data types.\n",
        "Example:-\n",
        "my_list = [1, \"apple\", 3.14, True]"
      ],
      "metadata": {
        "id": "DmvE6-oHRnqO"
      }
    },
    {
      "cell_type": "markdown",
      "source": [
        "# **10. Why are strings immutable in Python?**\n",
        "\n",
        "Strings are immutable to:\n",
        "\n",
        "-Make them faster.\n",
        "-Make them safe to use in loops or keys in dictionaries.\n",
        "-Prevent accidental changes."
      ],
      "metadata": {
        "id": "7Wf8yJ6eRnvm"
      }
    },
    {
      "cell_type": "markdown",
      "source": [
        "# **11. Advantages of dictionaries over lists?**\n",
        "\n",
        "-> Dictionaries use keys for lookup, which is faster\n",
        "-> Easier to find data by name (like student[\"name\"]) instead of using position (list[0])"
      ],
      "metadata": {
        "id": "t9mpt9vORnz6"
      }
    },
    {
      "cell_type": "markdown",
      "source": [
        "# **12. When to use a tuple over a list ?**\n",
        "\n",
        "Use a tuple when:\n",
        "\n",
        "-The data should not change\n",
        "-You want to make your code safer\n",
        "\n",
        "Example:\n",
        "Coordinates (10, 20) or a person's date of birth"
      ],
      "metadata": {
        "id": "RZCrKF_nRn2Y"
      }
    },
    {
      "cell_type": "markdown",
      "source": [
        "# **13. How do sets handle duplicates?**\n",
        "\n",
        "Sets automatically remove any duplicate values.\n",
        "nums = {1, 2, 2, 3}\n",
        "print(nums)  # Output: {1, 2, 3}"
      ],
      "metadata": {
        "id": "8uHEsfKFRn4s"
      }
    },
    {
      "cell_type": "markdown",
      "source": [
        "# **14. How \"in\" works differently for lists and dictionaries ?**\n",
        "\n",
        "->In lists, in checks if a value exists\n",
        "->In dictionaries, in checks if a key exists\n",
        "\n",
        "Examples\n",
        "my_list = [1, 2, 3]\n",
        "print(2 in my_list)  # True\n",
        "\n",
        "my_dict = {\"a\": 1}\n",
        "print(\"a\" in my_dict)  # True\n",
        "print(1 in my_dict)    # False (it's a value, not a key)\n"
      ],
      "metadata": {
        "id": "qa9nJe-teg1M"
      }
    },
    {
      "cell_type": "markdown",
      "source": [
        "# **15. Can you modify a tuple? Why or why not?**\n",
        "\n",
        "No, tuples are immutable. You can’t change, add, or remove items once it's created.\n",
        "This is why they're often used when you want data to stay fixed."
      ],
      "metadata": {
        "id": "LpN93P99eg8L"
      }
    },
    {
      "cell_type": "markdown",
      "source": [
        "# **16. What is a nested dictionary? Example?**\n",
        "\n",
        "A nested dictionary means a dictionary inside another dictionary.\n",
        "Example:\n",
        "students = {\n",
        "    \"John\": {\"age\": 20, \"grade\": \"A\"},\n",
        "    \"Sara\": {\"age\": 21, \"grade\": \"B\"}\n",
        "}"
      ],
      "metadata": {
        "id": "QAlbqn0-ehEm"
      }
    },
    {
      "cell_type": "markdown",
      "source": [
        "# **17. Time complexity of accessing dictionary elements?**\n",
        "\n",
        "Accessing a value by key in a dictionary takes O(1) time — which means it’s very fast, regardless of size."
      ],
      "metadata": {
        "id": "zUvtM3soehKs"
      }
    },
    {
      "cell_type": "markdown",
      "source": [
        "# ***#  18. When are lists preferred over dictionaries, Use lists when ***\n",
        "\n",
        "Order matters\n",
        "You only need to store values, not name-value pairs\n",
        "You’re looping through items in a sequence"
      ],
      "metadata": {
        "id": "c0kYUZt_Rn66"
      }
    },
    {
      "cell_type": "markdown",
      "source": [
        "# **19. Why are dictionaries considered unordered?**\n",
        "\n",
        "Older versions of Python didn’t maintain the order of items. Even now, dictionaries are not meant to be used by order, but by keys.\n",
        "So, you can't rely on the order of elements in a dictionary the way you can with a list."
      ],
      "metadata": {
        "id": "HwcO1VMNRn9P"
      }
    },
    {
      "cell_type": "markdown",
      "source": [
        "# **20. Difference between list and dictionary in data retrieval?**\n",
        "\n",
        "In a list, you access data by position/index\n",
        "\n",
        "-> my_list[0]\n",
        "\n",
        "In a dictionary, you access data by key\n",
        "\n",
        "-> my_dict[\"name\"]"
      ],
      "metadata": {
        "id": "_M1xNsFDgscC"
      }
    },
    {
      "cell_type": "code",
      "source": [
        "#1. Create a string with your name and print it ?\n",
        "\n",
        "name = \"Monty\"\n",
        "print(name)"
      ],
      "metadata": {
        "id": "S1dlVeEkQUuV"
      },
      "execution_count": null,
      "outputs": []
    },
    {
      "cell_type": "code",
      "source": [
        "# 2. Find the length of \"Hello World\" ?\n",
        "\n",
        "text = \"Hello World\"\n",
        "length = len(text)\n",
        "print(\"Length:\", length)"
      ],
      "metadata": {
        "id": "7ifG7wtdQ_Lc"
      },
      "execution_count": null,
      "outputs": []
    },
    {
      "cell_type": "code",
      "source": [
        "# 3. Slice the first 3 characters from \"Python Programming\"?\n",
        "\n",
        "text = \"Python Programming\"\n",
        "first_three = text[:3]\n",
        "print(first_three)"
      ],
      "metadata": {
        "colab": {
          "base_uri": "https://localhost:8080/"
        },
        "id": "wh26exZ0RGZT",
        "outputId": "728e3296-43e3-40ae-c2d5-aea16c2478a5"
      },
      "execution_count": 1,
      "outputs": [
        {
          "output_type": "stream",
          "name": "stdout",
          "text": [
            "Pyt\n"
          ]
        }
      ]
    },
    {
      "cell_type": "code",
      "source": [
        "# 4. Convert \"hello\" to uppercase ?\n",
        "\n",
        "greet = \"hello\"\n",
        "upper_greet = greet.upper()\n",
        "print(upper_greet)"
      ],
      "metadata": {
        "id": "bJHKMiPlXcyR"
      },
      "execution_count": null,
      "outputs": []
    },
    {
      "cell_type": "code",
      "source": [
        "# 5. Replace \"apple\" with \"orange\" in \"I like apple\"?\n",
        "\n",
        "sentence = \"I like apple\"\n",
        "new_sentence = sentence.replace(\"apple\", \"orange\")\n",
        "print(new_sentence)"
      ],
      "metadata": {
        "id": "dHtMStE_Xj03"
      },
      "execution_count": null,
      "outputs": []
    },
    {
      "cell_type": "code",
      "source": [
        "# 6. Create a list with numbers 1 to 5 and print it?\n",
        "\n",
        "num_list = [1, 2, 3, 4, 5]\n",
        "print(num_list)"
      ],
      "metadata": {
        "id": "1cX7uzDkXpgY"
      },
      "execution_count": null,
      "outputs": []
    },
    {
      "cell_type": "code",
      "source": [
        "# 7. Append the number 10 to [1, 2, 3, 4]?\n",
        "\n",
        "my_list = [1, 2, 3, 4]\n",
        "my_list.append(10)\n",
        "print(my_list)"
      ],
      "metadata": {
        "id": "oB6-0NbpYCJP"
      },
      "execution_count": null,
      "outputs": []
    },
    {
      "cell_type": "code",
      "source": [
        "# 8. Remove the number 3 from [1, 2, 3, 4, 5] ?\n",
        "\n",
        "my_list = [1, 2, 3, 4, 5]\n",
        "my_list.remove(3)\n",
        "print(my_list)"
      ],
      "metadata": {
        "id": "LMO8dkV0YdUC"
      },
      "execution_count": null,
      "outputs": []
    },
    {
      "cell_type": "code",
      "source": [
        "# 9. Access the second element in ['a', 'b', 'c', 'd'] ?\n",
        "\n",
        "letters = ['a', 'b', 'c', 'd']\n",
        "second = letters[1]\n",
        "print(second)"
      ],
      "metadata": {
        "id": "Zcw00fuRaDCy"
      },
      "execution_count": null,
      "outputs": []
    },
    {
      "cell_type": "code",
      "source": [
        "# 10. Reverse the list [10, 20, 30, 40, 50] ?\n",
        "\n",
        "nums = [10, 20, 30, 40, 50]\n",
        "numbers_reversed = nums[::-1]\n",
        "print(numbers_reversed)\n",
        "\n",
        "# or\n",
        "\n",
        "nums = [10, 20, 30, 40, 50]\n",
        "nums.reverse()\n",
        "print(nums)"
      ],
      "metadata": {
        "id": "jLz1Z7ruaIeu"
      },
      "execution_count": null,
      "outputs": []
    },
    {
      "cell_type": "code",
      "source": [
        "# 11. Write a code to create a tuple with the elements 100, 200, 300 and print it ?\n",
        "\n",
        "my_tuple = (100, 200, 300)\n",
        "print(my_tuple)"
      ],
      "metadata": {
        "id": "F6s6bJO8aOo1"
      },
      "execution_count": null,
      "outputs": []
    },
    {
      "cell_type": "code",
      "source": [
        "# 12. Write a code to access the second-to-last element of the tuple ('red', 'green', 'blue', 'yellow') ?\n",
        "\n",
        "colors = ('red', 'green', 'blue', 'yellow')\n",
        "print(colors[-2])"
      ],
      "metadata": {
        "id": "aWyH2TOVbUCl"
      },
      "execution_count": null,
      "outputs": []
    },
    {
      "cell_type": "code",
      "source": [
        "# 13. Write a code to find the minimum number in the tuple (10, 20, 5, 15) ?\n",
        "\n",
        "numbers = (10, 20, 5, 15)\n",
        "print(min(numbers))"
      ],
      "metadata": {
        "id": "-ZNPG2VvdUrF"
      },
      "execution_count": null,
      "outputs": []
    },
    {
      "cell_type": "code",
      "source": [
        "# 14. Write a code to find the index of the element \"cat\" in the tuple ('dog', 'cat', 'rabbit') ?\n",
        "\n",
        "animals = ('dog', 'cat', 'rabbit')\n",
        "print(animals.index(\"cat\"))"
      ],
      "metadata": {
        "id": "-xQ4uHROdc73"
      },
      "execution_count": null,
      "outputs": []
    },
    {
      "cell_type": "code",
      "source": [
        "# 15. Write a code to create a tuple containing three different fruits and check if \"kiwi\" is in it ?\n",
        "\n",
        "fruits = (\"apple\", \"banana\", \"orange\")\n",
        "if \"kiwi\" in fruits:\n",
        "    print(\"Kiwi is in the tuple\")\n",
        "else:\n",
        "    print(\"Kiwi is not in the tuple\")"
      ],
      "metadata": {
        "id": "CG2I4ayZdkRf"
      },
      "execution_count": null,
      "outputs": []
    },
    {
      "cell_type": "code",
      "source": [
        "# 16. Write a code to create a set with the elements 'a', 'b', 'c' and print it?\n",
        "\n",
        "my_set = {'a', 'b', 'c'}\n",
        "print(my_set)"
      ],
      "metadata": {
        "id": "DaO48bVEdn6s"
      },
      "execution_count": null,
      "outputs": []
    },
    {
      "cell_type": "code",
      "source": [
        "# 17. Write a code to clear all elements from the set {1, 2, 3, 4, 5} ?\n",
        "\n",
        "my_set = {1, 2, 3, 4, 5}\n",
        "my_set.clear()\n",
        "print(my_set)"
      ],
      "metadata": {
        "id": "5E1Pd0Z7dsQj"
      },
      "execution_count": null,
      "outputs": []
    },
    {
      "cell_type": "code",
      "source": [
        "# 18. Write a code to remove the element 4 from the set {1, 2, 3, 4} ?\n",
        "\n",
        "my_set = {1, 2, 3, 4}\n",
        "my_set.remove(4)\n",
        "print(my_set)"
      ],
      "metadata": {
        "id": "QeaZvq1ndv6X"
      },
      "execution_count": null,
      "outputs": []
    },
    {
      "cell_type": "code",
      "source": [
        "# 19. Write a code to find the union of two sets {1, 2, 3} and {3, 4, 5} ?\n",
        "\n",
        "a = {1, 2, 3}\n",
        "b = {3, 4, 5}\n",
        "union_set = a.union(b)\n",
        "print(union_set)"
      ],
      "metadata": {
        "id": "owvk3nZ-dy7Q"
      },
      "execution_count": null,
      "outputs": []
    },
    {
      "cell_type": "code",
      "source": [
        "# 20. Write a code to find the intersection of two sets {1, 2, 3} and {2, 3, 4} ?\n",
        "\n",
        "a = {1, 2, 3}\n",
        "b = {2, 3, 4}\n",
        "intersect = a.intersection(b)\n",
        "print(intersect)\n"
      ],
      "metadata": {
        "id": "gxFRcbzueP-h"
      },
      "execution_count": null,
      "outputs": []
    },
    {
      "cell_type": "code",
      "source": [
        "# 21. Write a code to create a dictionary with the keys \"name\", \"age\", and \"city\", and print it ?\n",
        "\n",
        "person = {\"name\": \"John\", \"age\": 25, \"city\": \"New York\"}\n",
        "print(person)"
      ],
      "metadata": {
        "id": "uXxqedFzeWpU"
      },
      "execution_count": null,
      "outputs": []
    },
    {
      "cell_type": "code",
      "source": [
        "# 22. Write a code to add a new key-value pair \"country\": \"USA\" to the dictionary {'name': 'John','age': 25} ?\n",
        "\n",
        "person = {'name': 'John', 'age': 25}\n",
        "person['country'] = 'USA'\n",
        "print(person)"
      ],
      "metadata": {
        "id": "yESa-4zkfEkA"
      },
      "execution_count": null,
      "outputs": []
    },
    {
      "cell_type": "code",
      "source": [
        "# 23. Write a code to access the value associated with the key \"name\" in the dictionary {'name':'Alice', 'age': 30}?\n",
        "\n",
        "person = {'name': 'Alice', 'age': 30}\n",
        "print(person['name'])"
      ],
      "metadata": {
        "id": "vv0xAVpffJ9d"
      },
      "execution_count": null,
      "outputs": []
    },
    {
      "cell_type": "code",
      "source": [
        "# 24. Write a code to remove the key \"age\" from the dictionary {'name': 'Bob', 'age': 22, 'city':'New York'} ?\n",
        "\n",
        "person = {'name': 'Bob', 'age': 22, 'city': 'New York'}\n",
        "person.pop('age')\n",
        "print(person)"
      ],
      "metadata": {
        "id": "NjPKwj66fkvL"
      },
      "execution_count": null,
      "outputs": []
    },
    {
      "cell_type": "code",
      "source": [
        "# 25. Write a code to check if the key \"city\" exists in the dictionary {'name': 'Alice', 'city':'Paris'} ?\n",
        "\n",
        "person = {'name': 'Alice', 'city': 'Paris'}\n",
        "if 'city' in person:\n",
        "    print(\"Key exists\")\n",
        "else:\n",
        "    print(\"Key not found\")"
      ],
      "metadata": {
        "id": "GzUuO-xKgrkI"
      },
      "execution_count": null,
      "outputs": []
    },
    {
      "cell_type": "code",
      "source": [
        "# 26. Write a code to create a list, a tuple, and a dictionary, and print them all?\n",
        "\n",
        "my_list = [1, 2, 3]\n",
        "my_tuple = (4, 5, 6)\n",
        "my_dict = {\"a\": 7, \"b\": 8}\n",
        "\n",
        "print(my_list)\n",
        "print(my_tuple)\n",
        "print(my_dict)"
      ],
      "metadata": {
        "id": "sd5Wc6DigzR_"
      },
      "execution_count": null,
      "outputs": []
    },
    {
      "cell_type": "code",
      "source": [
        "# 27. Write a code to create a list of 5 random numbers between l and 100, sort it in ascending order, and print the result.(replaced) ?\n",
        "\n",
        "import random\n",
        "\n",
        "numbers = random.sample(range(1, 101), 5)\n",
        "numbers.sort()\n",
        "print(numbers)"
      ],
      "metadata": {
        "id": "WMoLw0lWg2tJ"
      },
      "execution_count": null,
      "outputs": []
    },
    {
      "cell_type": "code",
      "source": [
        "# 28. Write a code to create a list with strings and print the element at the third index ?\n",
        "\n",
        "words = [\"apple\", \"banana\", \"cherry\", \"date\", \"fig\"]\n",
        "print(words[3])"
      ],
      "metadata": {
        "id": "elWtW5rgg65_"
      },
      "execution_count": null,
      "outputs": []
    },
    {
      "cell_type": "code",
      "source": [
        "# 29. Write a code to combine two dictionaries into one and print the result ?\n",
        "\n",
        "dict1 = {\"a\": 1, \"b\": 2}\n",
        "dict2 = {\"c\": 3, \"d\": 4}\n",
        "\n",
        "combined = {**dict1, **dict2}\n",
        "print(combined)"
      ],
      "metadata": {
        "id": "Wg_1L54_g-uc"
      },
      "execution_count": null,
      "outputs": []
    },
    {
      "cell_type": "code",
      "source": [
        "# 30. Write a code to convert a list of strings into a set ?\n",
        "\n",
        "words = [\"apple\", \"banana\", \"apple\", \"cherry\"]\n",
        "unique_words = set(words)\n",
        "print(unique_words)"
      ],
      "metadata": {
        "id": "hJatRZt2hA9D"
      },
      "execution_count": null,
      "outputs": []
    }
  ]
}