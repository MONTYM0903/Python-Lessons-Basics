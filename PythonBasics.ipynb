{
  "nbformat": 4,
  "nbformat_minor": 0,
  "metadata": {
    "colab": {
      "provenance": []
    },
    "kernelspec": {
      "name": "python3",
      "display_name": "Python 3"
    },
    "language_info": {
      "name": "python"
    }
  },
  "cells": [
    {
      "cell_type": "markdown",
      "source": [
        "** l. What is Python, and why is it popular?**\n",
        "Ans. Python is a programming language, kind of like a language we use to talk to the computer and tell it what to do.\n",
        "It is porpular, because of the followings:-\n",
        "-> It’s easy to read and write.\n",
        "-> It’s used almost everywhere: websites, apps, games, data science, AI, and more.\n",
        "-> It works on all major platforms—Windows, Mac, Linux, even phones.\n",
        "-> There are tons of free tools and online ommunity support —so learning it is friendly.\n",
        "\n"
      ],
      "metadata": {
        "id": "MIaqOxX0xlON"
      }
    },
    {
      "cell_type": "markdown",
      "source": [
        "** 2. What is an interpreter in Python?**\n",
        "Ans: An interpreter is like a translator between you and your computer.\n",
        "\n",
        "When you write something in Python, the interpreter:\n",
        "Reads your code line by line, Understands it, and Tells the computer what to do.\n",
        "\n",
        "Unlike some other languages that need to compile the whole code before running, Python runs your code instantly with the help of the interpreter.\n",
        "\n"
      ],
      "metadata": {
        "id": "eAjPszUVysug"
      }
    },
    {
      "cell_type": "markdown",
      "source": [
        "**3. What are the pre-defined keywords in Python?**\n",
        "Ans: **Keywords** are special words in Python that have fixed meanings. They’re like the grammar rules in English. Some examples of pre-defined keywords are -\n",
        "if, else, while, for - used for decisions and loops\n",
        "def - used to define a function\n",
        "class - used to create objects\n",
        "True, False, None - special values\n",
        "input - to get user input.\n",
        "\n",
        "As of now, Python has about 35 keywords, and we cannot change what they do."
      ],
      "metadata": {
        "id": "WR4pqlsl2MS_"
      }
    },
    {
      "cell_type": "markdown",
      "source": [
        "**4. Can keywords be used as variables in Python?**\n",
        "Ans: No, we can’t use keywords as variable names. Because Python will get confused. It expects keywords to do something special, not to be used as names. For Example:-\n",
        "if = 5  # this will give an error.\n",
        "\n",
        "As for python, if is starting a condition, not storing number."
      ],
      "metadata": {
        "id": "pAwAqfkm2OAy"
      }
    },
    {
      "cell_type": "markdown",
      "source": [
        "**5. What is mutability in Python?**\n",
        "Ans: In simple language, Mutability means whether something can be changed or not after it is created. for example:-\n",
        "-A whiteboard: You can change what's written = mutable\n",
        "-A printed page: You can’t change the words = immutable\n",
        "Similarly in Python,\n",
        " Mutable things {can change}: List, Dictionary, Sets\n",
        " Immutable things {can't change}: Int, Float, String, Tuple.\n",
        ""
      ],
      "metadata": {
        "id": "abrMJLfG6GOf"
      }
    },
    {
      "cell_type": "markdown",
      "source": [
        "**6. Why are lists mutable, but tuples are immutable?**\n",
        "Ans: This could be understand in this way:\n",
        "   -A list is like a notebook — you can erase and rewrite stuff. So, lists are mutable (changeable).\n",
        "   -A tuple is like a printed book page — you can read it, but you can’t change the words. So, tuples are immutable (unchangeable).\n",
        "\n",
        "   Python made it this way:\n",
        "   -Lists are meant for data that might change. (Resdential Address, Designation)\n",
        "   -Tuples are meant for data that should stay fixed. (Permanent Address, Transaction ID, Unique ID etc)\n",
        "  \n",
        "   This helps make programs more organized and safe."
      ],
      "metadata": {
        "id": "xr9yINGP_gmH"
      }
    },
    {
      "cell_type": "markdown",
      "source": [
        "**7. What is the difference between == and is operators in Python?**\n",
        "Ans: > '==' checks if the values are the same\n",
        "     > 'is' checks if they are actually the same object in memory."
      ],
      "metadata": {
        "id": "FL0wO7-8_g4R"
      }
    },
    {
      "cell_type": "markdown",
      "source": [
        "**8. What are logical operators in Python?**\n",
        "Ans: Logical operators help us combine conditions or check multiple things at once.\n",
        "\n",
        "There are three main ones:\n",
        "**Operator**\t     **Meaning**\t        **Example**\n",
        "**and**\t         Both must be true\t    x > 5 and x < 10\n",
        "**or**\t         One must be true\t      x == 0 or x == 10\n",
        "**not**\t        Reverses the result\t    not x == 5 (means x ≠ 5)\n",
        "\n"
      ],
      "metadata": {
        "id": "6DvA3tPvD0OF"
      }
    },
    {
      "cell_type": "markdown",
      "source": [
        "**9. What is type casting in Python?**\n",
        "Ans: Type casting means changing the type of a value. For Example:\n",
        "     - Changing a number to a string\n",
        "     - Changing a string to a number\n",
        "     Its like we tell python to treat something as a different type."
      ],
      "metadata": {
        "id": "xu2JOZYvFCRu"
      }
    },
    {
      "cell_type": "markdown",
      "source": [
        "**10. What is the difference between implicit and explicit type casting?**\n",
        "Ans: - Implicit = Python does it automatically\n",
        "     - Explicit = You do it manually using functions like int(), float(), str()\n",
        "'Implicit casting is done automatically by the compiler when it's safe and convenient, while explicit casting requires the programmer to specify the conversion using a cast operator.'\n"
      ],
      "metadata": {
        "id": "aNDEgC50Fr7L"
      }
    },
    {
      "cell_type": "markdown",
      "source": [
        "**11. What is the purpose of conditional statements in Python?**\n",
        "Ans: Conditional statements help the program make decisions.\n",
        "Like:\n",
        "\n",
        "If it’s raining, take an umbrella.\n",
        "\n",
        "If your age is over 18, you can vote.\n",
        "\n",
        "In Python, we use:\n",
        "\n",
        "if\n",
        "elif (else if)\n",
        "else\n",
        "\n",
        "**They check conditions and run code only if the condition is true.**"
      ],
      "metadata": {
        "id": "NTPI2T8XGLcn"
      }
    },
    {
      "cell_type": "markdown",
      "source": [
        "**12. How does the elif statement work?**\n",
        "Ans: elif means \"if the previous condition wasn't true, try this one.\"\n",
        "      x = 10\n",
        "      if x > 20:\n",
        "    print(\"Greater than 20\")\n",
        "      elif x > 5:\n",
        "    print(\"Greater than 5 but not more than 20\")\n",
        "      else:\n",
        "    print(\"5 or less\")\n",
        "\n",
        "Here, elif gives us more options to test instead of just one if."
      ],
      "metadata": {
        "id": "LGt0gcDPGrty"
      }
    },
    {
      "cell_type": "markdown",
      "source": [
        "**13. What is the difference between for and while loops?**\n",
        "Ans: for loop\n",
        "      i) Runs a specific number of times.\n",
        "      ii) Best when you know how many times to run.\n",
        "    \n",
        "    Where as, in while loop\n",
        "     i) Runs while a condition is true.\n",
        "     ii) Best when you don’t know when to stop.\n",
        "  \n",
        "  "
      ],
      "metadata": {
        "id": "rMgRovCCHDy-"
      }
    },
    {
      "cell_type": "markdown",
      "source": [
        "**14. Describe a scenario where a while loop is more suitable than a for loop.**\n",
        "Ans: Imagine you're building a program where:\n",
        "A user must keep entering a password until they get it right.\n",
        "You don’t know how many tries they’ll need. So we use a \"while loop\" to fulfill the condition, and similarly there are lots of usage where while loop used instead of \"For Loop\"."
      ],
      "metadata": {
        "id": "Ob4lduHuH1X1"
      }
    },
    {
      "cell_type": "markdown",
      "source": [
        "## **1. Write a Python program to print \"Hello, World!\".**\n",
        ""
      ],
      "metadata": {
        "id": "RIjJvUxd69a9"
      }
    },
    {
      "cell_type": "code",
      "source": [
        "print(\"Hello, World!\")"
      ],
      "metadata": {
        "id": "mvwD88-19WPb"
      },
      "execution_count": null,
      "outputs": []
    },
    {
      "cell_type": "markdown",
      "source": [
        "## **2. Write a Python program that displays your name and age.**"
      ],
      "metadata": {
        "id": "e8M5JDKM9W-c"
      }
    },
    {
      "cell_type": "code",
      "source": [
        "name = \"Monty\"\n",
        "age = 32\n",
        "print(\"My name is\", name)\n",
        "print(\"I am\", age, \"years old\")"
      ],
      "metadata": {
        "colab": {
          "base_uri": "https://localhost:8080/"
        },
        "id": "xWY3ryKv9XeE",
        "outputId": "662444ba-1914-487a-baea-fb159b2e95db"
      },
      "execution_count": 1,
      "outputs": [
        {
          "output_type": "stream",
          "name": "stdout",
          "text": [
            "My name is Monty\n",
            "I am 32 years old\n"
          ]
        }
      ]
    },
    {
      "cell_type": "markdown",
      "source": [
        "## **3. Write code to print all the pre-defined keywords in Python using the keyword library.**"
      ],
      "metadata": {
        "id": "A0JP8zLq9XyH"
      }
    },
    {
      "cell_type": "code",
      "source": [
        "import keyword\n",
        "\n",
        "print(\"Python Keywords:\")\n",
        "print(keyword.kwlist)"
      ],
      "metadata": {
        "colab": {
          "base_uri": "https://localhost:8080/"
        },
        "id": "fl6UZj2k9YBm",
        "outputId": "e5e0163c-dcca-498f-dc7b-953dad42a5bc"
      },
      "execution_count": 2,
      "outputs": [
        {
          "output_type": "stream",
          "name": "stdout",
          "text": [
            "Python Keywords:\n",
            "['False', 'None', 'True', 'and', 'as', 'assert', 'async', 'await', 'break', 'class', 'continue', 'def', 'del', 'elif', 'else', 'except', 'finally', 'for', 'from', 'global', 'if', 'import', 'in', 'is', 'lambda', 'nonlocal', 'not', 'or', 'pass', 'raise', 'return', 'try', 'while', 'with', 'yield']\n"
          ]
        }
      ]
    },
    {
      "cell_type": "markdown",
      "source": [
        "## **4. Write a program that checks if a given word is a Python keyword.**"
      ],
      "metadata": {
        "id": "5TmNpPW49YMI"
      }
    },
    {
      "cell_type": "code",
      "source": [
        "import keyword\n",
        "\n",
        "word = input(\"Enter a word: \")\n",
        "\n",
        "if keyword.iskeyword(word):\n",
        "    print(word, \"is a Python keyword.\")\n",
        "else:\n",
        "    print(word, \"is not a Python keyword.\")"
      ],
      "metadata": {
        "colab": {
          "base_uri": "https://localhost:8080/"
        },
        "id": "XKYJSKeE9Ybe",
        "outputId": "f721b39d-34d7-4868-9b6e-6d9ae469149d"
      },
      "execution_count": 3,
      "outputs": [
        {
          "output_type": "stream",
          "name": "stdout",
          "text": [
            "Enter a word: def\n",
            "def is a Python keyword.\n"
          ]
        }
      ]
    },
    {
      "cell_type": "markdown",
      "source": [
        "## **5. Create a list and tuple in Python, and demonstrate how attempting to change an element works differently for each.**"
      ],
      "metadata": {
        "id": "W27FiQrz9Ylr"
      }
    },
    {
      "cell_type": "code",
      "source": [
        "# List (mutable)\n",
        "my_list = [1, 2, 3]\n",
        "my_list[0] = 10 #Here the 0 placed value in memory as 1 replace with 10.\n",
        "print(\"List after change:\", my_list)\n",
        "\n",
        "#where as when we use tupple, which is immutable\n",
        "#when we write code to change the tuple, it will show\n",
        "my_tuple = (1, 2, 3)\n",
        "# my_tuple[0] = 10  # This will give an error\n",
        "print(\"Tuple remains unchanged:\", my_tuple)\n"
      ],
      "metadata": {
        "colab": {
          "base_uri": "https://localhost:8080/"
        },
        "id": "IZB26RC29Yvv",
        "outputId": "38b7a70e-6665-438c-f67e-aeed59d4c19d"
      },
      "execution_count": 5,
      "outputs": [
        {
          "output_type": "stream",
          "name": "stdout",
          "text": [
            "List after change: [10, 2, 3]\n",
            "Tuple remains unchanged: (1, 2, 3)\n"
          ]
        }
      ]
    },
    {
      "cell_type": "markdown",
      "source": [
        "## **6. Write a function to demonstrate the behavior of mutable and immutable arguments.**"
      ],
      "metadata": {
        "id": "yknonG5i9Y5X"
      }
    },
    {
      "cell_type": "code",
      "source": [
        "def change_list(lst):\n",
        "    lst[0] = 300\n",
        "\n",
        "def change_number(num):\n",
        "    num = 100\n",
        "\n",
        "my_list = [1, 2, 3]\n",
        "my_num = 10\n",
        "\n",
        "change_list(my_list) # here we can see that, we can add in the list, but cant change exisiting data inside a list.\n",
        "change_number(my_num) # where as here we can change the data.\n",
        "\n",
        "print(\"List after function:\", my_list)\n",
        "print(\"Number after function:\", my_num)"
      ],
      "metadata": {
        "colab": {
          "base_uri": "https://localhost:8080/"
        },
        "id": "rP0yU1Tt9ZDF",
        "outputId": "e2618736-093a-4766-963d-6c9e6b2fb7af"
      },
      "execution_count": 8,
      "outputs": [
        {
          "output_type": "stream",
          "name": "stdout",
          "text": [
            "List after function: [300, 2, 3]\n",
            "Number after function: 10\n"
          ]
        }
      ]
    },
    {
      "cell_type": "markdown",
      "source": [
        "## **7. Write a program that performs basic arithmetic operations on two user-input numbers.**"
      ],
      "metadata": {
        "id": "TtG6_oib9ZLK"
      }
    },
    {
      "cell_type": "code",
      "source": [
        "a = int(input(\"Enter first number: \"))\n",
        "b = int(input(\"Enter second number: \"))\n",
        "\n",
        "print(\"Addition:\", a + b)\n",
        "print(\"Subtraction:\", a - b)\n",
        "print(\"Multiplication:\", a * b)\n",
        "print(\"Division:\", a / b)"
      ],
      "metadata": {
        "colab": {
          "base_uri": "https://localhost:8080/"
        },
        "id": "_Sbso9UW9ZT4",
        "outputId": "17c55c59-46f0-444d-9d36-cf9255b766bb"
      },
      "execution_count": 9,
      "outputs": [
        {
          "output_type": "stream",
          "name": "stdout",
          "text": [
            "Enter first number: 4\n",
            "Enter second number: 5\n",
            "Addition: 9\n",
            "Subtraction: -1\n",
            "Multiplication: 20\n",
            "Division: 0.8\n"
          ]
        }
      ]
    },
    {
      "cell_type": "markdown",
      "source": [
        "## **8. Write a program to demonstrate the use of logical operators.**"
      ],
      "metadata": {
        "id": "vZ3rgSZu9Zbm"
      }
    },
    {
      "cell_type": "code",
      "source": [
        "a = 5\n",
        "b = 10\n",
        "\n",
        "if a > 0 and b > 0:\n",
        "    print(\"Both numbers are positive\")\n",
        "\n",
        "if a > 0 or b < 0:\n",
        "    print(\"At least one number is positive\")\n",
        "\n",
        "if not a == b:\n",
        "    print(\"a and b are not equal\")"
      ],
      "metadata": {
        "colab": {
          "base_uri": "https://localhost:8080/"
        },
        "id": "WCbchmgt9ZkS",
        "outputId": "b82084d8-421f-4ab0-d3cb-30c8de56be35"
      },
      "execution_count": 10,
      "outputs": [
        {
          "output_type": "stream",
          "name": "stdout",
          "text": [
            "Both numbers are positive\n",
            "At least one number is positive\n",
            "a and b are not equal\n"
          ]
        }
      ]
    },
    {
      "cell_type": "markdown",
      "source": [
        "## **9. Write a Python program to convert user input from string to integer, float, and boolean types.**"
      ],
      "metadata": {
        "id": "maEACOWv9Zrn"
      }
    },
    {
      "cell_type": "code",
      "source": [
        "value = input(\"Enter something: \")\n",
        "\n",
        "int_val = int(value)\n",
        "float_val = float(value)\n",
        "bool_val = bool(value)\n",
        "\n",
        "print(\"Integer:\", int_val)\n",
        "print(\"Float:\", float_val)\n",
        "print(\"Boolean:\", bool_val)"
      ],
      "metadata": {
        "colab": {
          "base_uri": "https://localhost:8080/"
        },
        "id": "PXmSMP3S9ZzC",
        "outputId": "ba0c6d20-5ffd-4f75-c0ce-4f065c072e6a"
      },
      "execution_count": 12,
      "outputs": [
        {
          "output_type": "stream",
          "name": "stdout",
          "text": [
            "Enter something: 5\n",
            "Integer: 5\n",
            "Float: 5.0\n",
            "Boolean: True\n"
          ]
        }
      ]
    },
    {
      "cell_type": "markdown",
      "source": [
        "## **10. Write code to demonstrate type casting with list elements.**\n",
        "\n"
      ],
      "metadata": {
        "id": "Fw2K-ylp9Z6U"
      }
    },
    {
      "cell_type": "code",
      "source": [
        "str_list = [\"1\", \"2\", \"3\"]\n",
        "int_list = []\n",
        "\n",
        "for item in str_list:\n",
        "    int_list.append(int(item))\n",
        "\n",
        "print(\"Original list:\", str_list)\n",
        "print(\"After casting to integers:\", int_list)"
      ],
      "metadata": {
        "colab": {
          "base_uri": "https://localhost:8080/"
        },
        "id": "fA4NI1eZ9aBy",
        "outputId": "9a890595-a966-4205-bd5a-d09bf492b517"
      },
      "execution_count": 13,
      "outputs": [
        {
          "output_type": "stream",
          "name": "stdout",
          "text": [
            "Original list: ['1', '2', '3']\n",
            "After casting to integers: [1, 2, 3]\n"
          ]
        }
      ]
    },
    {
      "cell_type": "markdown",
      "source": [
        "## **11. Write a program that checks if a number is positive, negative, or zero.**"
      ],
      "metadata": {
        "id": "ybU-GyPn9aIf"
      }
    },
    {
      "cell_type": "code",
      "source": [
        "num = int(input(\"Enter a number: \"))\n",
        "\n",
        "if num > 0:\n",
        "    print(\"Positive number\")\n",
        "elif num < 0:\n",
        "    print(\"Negative number\")\n",
        "else:\n",
        "    print(\"Zero\")\n"
      ],
      "metadata": {
        "colab": {
          "base_uri": "https://localhost:8080/"
        },
        "id": "qmzWOeBi9aQF",
        "outputId": "3edf889c-471b-4681-a82b-7528d6295a17"
      },
      "execution_count": 14,
      "outputs": [
        {
          "output_type": "stream",
          "name": "stdout",
          "text": [
            "Enter a number: -4\n",
            "Negative number\n"
          ]
        }
      ]
    },
    {
      "cell_type": "markdown",
      "source": [
        "## **12. write a for loop to print numbers from 1 to 10.**"
      ],
      "metadata": {
        "id": "K9lPSEi89aWz"
      }
    },
    {
      "cell_type": "code",
      "source": [
        "for i in range(1, 11): #here in range we always take +1 in the end digit of range to get our desired range\n",
        "    print(i)  #Like here our desired range is 1 to 10 thats why i have written 11 in the end of range."
      ],
      "metadata": {
        "colab": {
          "base_uri": "https://localhost:8080/"
        },
        "id": "Pk47XCWi9akC",
        "outputId": "28983e8b-7155-4f10-a50e-1a0a1f1d6c82"
      },
      "execution_count": 19,
      "outputs": [
        {
          "output_type": "stream",
          "name": "stdout",
          "text": [
            "1\n",
            "2\n",
            "3\n",
            "4\n",
            "5\n",
            "6\n",
            "7\n",
            "8\n",
            "9\n",
            "10\n"
          ]
        }
      ]
    },
    {
      "cell_type": "markdown",
      "source": [
        "## **13. Write a Python proqram to find the sum of all even numbers between 1 and  50.**"
      ],
      "metadata": {
        "id": "HsNtgH2c-pWY"
      }
    },
    {
      "cell_type": "code",
      "source": [
        "total = 0\n",
        "\n",
        "for i in range(1, 51):\n",
        "    if i % 2 == 0:\n",
        "        total += i\n",
        "\n",
        "print(\"Sum of even numbers from 1 to 50 is:\", total)"
      ],
      "metadata": {
        "colab": {
          "base_uri": "https://localhost:8080/"
        },
        "id": "Fs2J16lI-piv",
        "outputId": "0c9472bc-43c3-47a3-8e11-3f9673456316"
      },
      "execution_count": 20,
      "outputs": [
        {
          "output_type": "stream",
          "name": "stdout",
          "text": [
            "Sum of even numbers from 1 to 50 is: 650\n"
          ]
        }
      ]
    },
    {
      "cell_type": "markdown",
      "source": [
        "## **14. Write a program to reverse a string using a while loop.**"
      ],
      "metadata": {
        "id": "4seGq7kC-pvy"
      }
    },
    {
      "cell_type": "code",
      "source": [
        "text = input(\"Enter a string: \")\n",
        "reversed_text = \"\"\n",
        "i = len(text) - 1\n",
        "\n",
        "while i >= 0:\n",
        "    reversed_text += text[i]\n",
        "    i -= 1\n",
        "\n",
        "print(\"Reversed string:\", reversed_text)"
      ],
      "metadata": {
        "colab": {
          "base_uri": "https://localhost:8080/"
        },
        "id": "9rhjZ4y5-p5J",
        "outputId": "8e82012f-b9b5-4125-ece3-ab375ccc865b"
      },
      "execution_count": 22,
      "outputs": [
        {
          "output_type": "stream",
          "name": "stdout",
          "text": [
            "Enter a string: gfdsvs\n",
            "Reversed string: svsdfg\n"
          ]
        }
      ]
    },
    {
      "cell_type": "markdown",
      "source": [
        "## **15. Write a Python program to calculate the factorial of a number provided by the user using a while loop.**"
      ],
      "metadata": {
        "id": "ntc15w3E-qEh"
      }
    },
    {
      "cell_type": "code",
      "source": [
        "num = int(input(\"Enter a number: \"))\n",
        "result = 1\n",
        "i = 1\n",
        "\n",
        "while i <= num:\n",
        "    result *= i\n",
        "    i += 1\n",
        "\n",
        "print(\"Factorial of\", num, \"is\", result)"
      ],
      "metadata": {
        "colab": {
          "base_uri": "https://localhost:8080/"
        },
        "id": "ZSKtCEU6-qOA",
        "outputId": "648712fb-4306-4fb9-a292-8b6256edfd69"
      },
      "execution_count": 25,
      "outputs": [
        {
          "output_type": "stream",
          "name": "stdout",
          "text": [
            "Enter a number: 10\n",
            "Factorial of 10 is 3628800\n"
          ]
        }
      ]
    }
  ]
}