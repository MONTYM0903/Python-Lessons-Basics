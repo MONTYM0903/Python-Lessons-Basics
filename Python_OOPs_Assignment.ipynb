{
  "nbformat": 4,
  "nbformat_minor": 0,
  "metadata": {
    "colab": {
      "provenance": []
    },
    "kernelspec": {
      "name": "python3",
      "display_name": "Python 3"
    },
    "language_info": {
      "name": "python"
    }
  },
  "cells": [
    {
      "cell_type": "markdown",
      "source": [
        "**1. What is Object-Oriented Programming (OOP)?**\n",
        "ANS - OOP is a way of writing programs where everything is an object, like real-world things (car, dog, student). It uses classes and objects to organize code and make it reusable and easy to manage.\n",
        "\n",
        "Example: You can make a Dog class (blueprint) and then create several dog objects from it (like ‘Rex’ and ‘Buddy’)."
      ],
      "metadata": {
        "id": "Fz5vXYJB9RhV"
      }
    },
    {
      "cell_type": "markdown",
      "source": [
        "**2. What is a class in OOP?**\n",
        "ANS - A class is like a blueprint or template for creating objects; it defines what properties and methods those objects will have.\n",
        "\n",
        "Example -\n",
        "class Dog:\n",
        "    def bark(self):\n",
        "        print(\"Woof!\")\n",
        "\n"
      ],
      "metadata": {
        "id": "fqYPr0M69Re_"
      }
    },
    {
      "cell_type": "markdown",
      "source": [
        "**3. What is an object in OOP?**\n",
        "ANS - An object is an actual thing made using a class; it has real values.\n",
        "\n",
        "Example -\n",
        "\n",
        "my_dog = Dog()\n",
        "my_dog.bark()  # Output: Woof!\n"
      ],
      "metadata": {
        "id": "NSJwnAhH9Rcp"
      }
    },
    {
      "cell_type": "markdown",
      "source": [
        "**4. What is the difference between abstraction and encapsulation?**\n",
        "ANS\n",
        "- > Abstraction: Hides complex details and shows only what’s needed.\n",
        "\n",
        "Like using a TV remote—you know the buttons, not the circuits inside.\n",
        "\n",
        "- > Encapsulation: Keeps the data and code safe together in one place (class), like putting money in a wallet."
      ],
      "metadata": {
        "id": "vd2Bt6349RaI"
      }
    },
    {
      "cell_type": "markdown",
      "source": [
        "**5. What are dunder methods in Python?**\n",
        "ANS - Dunder methods (double-underscore methods) start and end with __. They let you define how objects behave with special functions like __init__, __str__, or __add__.\n",
        "\n",
        "Example -\n",
        "class Number:\n",
        "    def __init__(self, value):\n",
        "        self.value = value\n",
        "    def __str__(self):\n",
        "        return str(self.value)\n",
        "\n"
      ],
      "metadata": {
        "id": "ie3XgaZD9RXV"
      }
    },
    {
      "cell_type": "markdown",
      "source": [
        "**6. Explain the concept of inheritance in OOP ?**\n",
        "ANS - Inheritance allows a class to take features from another class. It helps reuse code.\n",
        "\n",
        "Example -\n",
        "class Animal:\n",
        "    def eat(self):\n",
        "        print(\"Eating\")\n",
        "class Dog(Animal):\n",
        "    pass\n",
        "my_dog = Dog()\n",
        "my_dog.eat()  # Output: Eating\n"
      ],
      "metadata": {
        "id": "y29CfMQ-9RTO"
      }
    },
    {
      "cell_type": "markdown",
      "source": [
        "**7. What is polymorphism in OOP?**\n",
        "ANS - Polymorphism lets different classes use the same method name differently.\n",
        "\n",
        "Example -\n",
        "class Dog:\n",
        "    def speak(self):\n",
        "        print(\"Woof!\")\n",
        "class Cat:\n",
        "    def speak(self):\n",
        "        print(\"Meow!\")\n"
      ],
      "metadata": {
        "id": "2QyU0Uly9RQ5"
      }
    },
    {
      "cell_type": "markdown",
      "source": [
        "**8. How is encapsulation achieved in Python?**\n",
        "ANS - Encapsulation is done by keeping details private—often by prefixing variables/methods with _ or __.\n",
        "\n",
        "Example -\n",
        "class Person:\n",
        "    def __init__(self):\n",
        "        self.__age = 0  # private variable\n"
      ],
      "metadata": {
        "id": "735pGbKx9TmU"
      }
    },
    {
      "cell_type": "markdown",
      "source": [
        "**9. What is a constructor in Python?**\n",
        "ANS - A constructor is a special method called __init__. It runs when you create a new object.\n",
        "\n",
        "Example -\n",
        "\n",
        "class Dog:\n",
        "    def __init__(self, name):\n",
        "        self.name = name"
      ],
      "metadata": {
        "id": "cy7VfKyD9TkT"
      }
    },
    {
      "cell_type": "markdown",
      "source": [
        "**10. What are class and static methods in Python?**\n",
        "ANS -\n",
        "- Class method uses @classmethod; it can change the class, not just the object.\n",
        "\n",
        "- Static method uses @staticmethod; it doesn’t touch the class or object.\n",
        "\n",
        "Example -\n",
        "\n",
        "class MyClass:\n",
        "    @classmethod\n",
        "    def from_value(cls, val):\n",
        "        return cls(val)\n",
        "    @staticmethod\n",
        "    def add(x, y):\n",
        "        return x + y"
      ],
      "metadata": {
        "id": "Yr-LW9l99Th-"
      }
    },
    {
      "cell_type": "markdown",
      "source": [
        "**11. What is method overloading in Python?**\n",
        "ANS - It means using the same method name for different tasks. Python doesn’t do this like Java, but you can use default/base arguments.\n",
        "\n",
        "Example:\n",
        "\n",
        "def add(a, b=0):\n",
        "    return a + b"
      ],
      "metadata": {
        "id": "_vMZhxSh9TbL"
      }
    },
    {
      "cell_type": "markdown",
      "source": [
        "**12. What is method overriding in OOP?**\n",
        "ANS -\n",
        "It’s when a child class redefines a method from its parent.\n",
        "\n",
        "Example -\n",
        "\n",
        "class Animal:\n",
        "    def speak(self):\n",
        "        print(\"Animal sound\")\n",
        "class Dog(Animal):\n",
        "    def speak(self):\n",
        "        print(\"Woof!\")\n"
      ],
      "metadata": {
        "id": "6RmXKFrF9TZU"
      }
    },
    {
      "cell_type": "markdown",
      "source": [
        "**13. What is a property decorator in Python?**\n",
        "ANS -\n",
        "@property lets you use a method like an attribute, often for getters/setters.\n",
        "\n",
        "Example -\n",
        "\n",
        "\n",
        "class Circle:\n",
        "    def __init__(self, radius):\n",
        "        self._radius = radius\n",
        "    @property\n",
        "    def radius(self):\n",
        "        return self._radius"
      ],
      "metadata": {
        "id": "H6tOfN1f9TW-"
      }
    },
    {
      "cell_type": "markdown",
      "source": [
        "**14. Why is polymorphism important in OOP?**\n",
        "ANS -\n",
        "It helps use the same code to do many things, making programs easier to extend and maintain."
      ],
      "metadata": {
        "id": "ZXwCMVNH9TUm"
      }
    },
    {
      "cell_type": "markdown",
      "source": [
        "**15. What is an abstract class in Python?**\n",
        "ANS - An abstract class can’t be made directly. It’s used as a base; it can have methods that must be defined in child classes.\n",
        "\n",
        "Example:\n",
        "\n",
        "from abc import ABC, abstractmethod\n",
        "class Animal(ABC):\n",
        "    @abstractmethod\n",
        "    def speak(self):\n",
        "        pass"
      ],
      "metadata": {
        "id": "gS3SGQ9M9TMh"
      }
    },
    {
      "cell_type": "markdown",
      "source": [
        "**16. What are the advantages of OOP?**\n",
        "ANS - ADVANTAGES OF OOPs are as follows.\n",
        "- Code is reusable (write once, use many times)\n",
        "\n",
        "- Easy to maintain\n",
        "\n",
        "- Makes complex tasks simpler\n",
        "\n",
        "- Encapsulation increases security\n",
        "\n",
        "- Supports abstraction and inheritance"
      ],
      "metadata": {
        "id": "5AA-yhlF9TDi"
      }
    },
    {
      "cell_type": "markdown",
      "source": [
        "**17. What is the difference between a class variable and an instance variable?**\n",
        "ANS -\n",
        "Class variable: Same for all objects.\n",
        "\n",
        "Instance variable: Unique to each object.\n",
        "\n",
        "Example -\n",
        "\n",
        "class Car:\n",
        "    wheels = 4   # class variable\n",
        "    def __init__(self, color):\n",
        "        self.color = color  # instance variable\n",
        "\n"
      ],
      "metadata": {
        "id": "tNagLj659TB5"
      }
    },
    {
      "cell_type": "markdown",
      "source": [
        "**18. What is multiple inheritance in Python?**\n",
        "ANS -\n",
        "A class can get features from more than one class.\n",
        "\n",
        "Example -\n",
        "\n",
        "class Father:\n",
        "    pass\n",
        "class Mother:\n",
        "    pass\n",
        "class Child(Father, Mother):\n",
        "    pass"
      ],
      "metadata": {
        "id": "lPKRspBP9TAB"
      }
    },
    {
      "cell_type": "markdown",
      "source": [
        "**19. Explain the purpose of \"   str   ' and '   repr  \" methods in Python?**\n",
        "ANS -\n",
        "__str__ gives a human-friendly string for printing.\n",
        "\n",
        "__repr__ gives an unambiguous string (useful for debugging).\n",
        "\n",
        "Example -\n",
        "\n",
        "class Dog:\n",
        "    def __str__(self):\n",
        "        return \"Dog\"\n",
        "    def __repr__(self):\n",
        "        return \"Dog(name='Rex')\"\n"
      ],
      "metadata": {
        "id": "Y8qhHyld9S9g"
      }
    },
    {
      "cell_type": "markdown",
      "source": [
        "**20. What is the significance of the 'super()' function in Python?**\n",
        "ANS -\n",
        "super() is used in child classes to call methods from the parent, often in constructors.\n",
        "\n",
        "Example -\n",
        "\n",
        "class Parent:\n",
        "    def __init__(self):\n",
        "        print(\"Parent\")\n",
        "class Child(Parent):\n",
        "    def __init__(self):\n",
        "        super().__init__()\n",
        "        print(\"Child\")\n"
      ],
      "metadata": {
        "id": "iqTE4f3p9S7U"
      }
    },
    {
      "cell_type": "markdown",
      "source": [
        "**21. What is the significance of the   del    method in Python?**\n",
        "ANS -\n",
        "__del__ is called when an object is deleted, often to clean up resources.\n",
        "\n",
        "Example -\n",
        "\n",
        "class Demo:\n",
        "    def __del__(self):\n",
        "        print(\"Object deleted\")\n"
      ],
      "metadata": {
        "id": "1mpOMVTI9S5E"
      }
    },
    {
      "cell_type": "markdown",
      "source": [
        "**22. What is the difference between @staticmethod and @classmethod in Python?**\n",
        "ANS -\n",
        "**@staticmethod:** No access to class or object; used for independent functions.\n",
        "\n",
        "**@classmethod:** Can access and modify the class, not the instance.\n"
      ],
      "metadata": {
        "id": "Hs5Oq0Lc9S2t"
      }
    },
    {
      "cell_type": "markdown",
      "source": [
        "**23. How does polymorphism work in Python with inheritance?**\n",
        "ANS -\n",
        "If multiple classes inherit from a parent, they can all have their own version of a method, and calling that method works based on the object's class."
      ],
      "metadata": {
        "id": "weaLQq_m-X5z"
      }
    },
    {
      "cell_type": "markdown",
      "source": [
        "**24. What is method chaining in Python OOP?**\n",
        "ANS -\n",
        "You can call methods one after another in one line if each returns self.\n",
        "\n",
        "Example -\n",
        "\n",
        "class Builder:\n",
        "    def add(self):\n",
        "        print('Add')\n",
        "        return self\n",
        "    def build(self):\n",
        "        print('Build')\n",
        "        return self\n",
        "b = Builder()\n",
        "b.add().build()  # Chaining methods\n",
        "\n"
      ],
      "metadata": {
        "id": "y1-ovymK-X0u"
      }
    },
    {
      "cell_type": "markdown",
      "source": [
        "**25. What is the purpose of the   call   method in Python?**\n",
        "ANS -\n",
        "Lets you call an object like a function.\n",
        "\n",
        "Example -\n",
        "class Greet:\n",
        "    def __call__(self, name):\n",
        "        print(f\"Hello, {name}!\")\n",
        "g = Greet()\n",
        "g(\"Sam\")  # Output: Hello, Sam!\n"
      ],
      "metadata": {
        "id": "W1eYmSMJ-Xuo"
      }
    },
    {
      "cell_type": "code",
      "source": [
        "# 1. Create a parent class Animal with a method speak() that prints a generic message. Create a child class Dog that overrides the speak() method to print \"Bark!\".\n",
        "\n",
        "class Animal:\n",
        "    def speak(self):\n",
        "        print(\"This animal makes a sound\")\n",
        "\n",
        "class Dog(Animal):\n",
        "    def speak(self):\n",
        "        print(\"Bark!\")\n"
      ],
      "metadata": {
        "id": "GMLydqKWbWAg"
      },
      "execution_count": null,
      "outputs": []
    },
    {
      "cell_type": "code",
      "source": [
        "# 2. Write a program to create an abstract class Shape with a method area(). Derive classes Circle and Rectangle from it and implement the area() method in both.\n",
        "\n",
        "from abc import ABC, abstractmethod\n",
        "\n",
        "class Shape(ABC):\n",
        "    @abstractmethod\n",
        "    def area(self):\n",
        "        pass\n",
        "\n",
        "class Circle(Shape):\n",
        "    def __init__(self, radius):\n",
        "        self.radius = radius\n",
        "\n",
        "    def area(self):\n",
        "        return 3.14 * self.radius * self.radius\n",
        "\n",
        "class Rectangle(Shape):\n",
        "    def __init__(self, width, height):\n",
        "        self.width = width\n",
        "        self.height = height\n",
        "\n",
        "    def area(self):\n",
        "        return self.width * self.height\n"
      ],
      "metadata": {
        "id": "OlQT2KUpfoe2"
      },
      "execution_count": null,
      "outputs": []
    },
    {
      "cell_type": "code",
      "source": [
        "# 3. Implement a multi-level inheritance scenario where a class Vehicle has an attribute type. Derive a class Car and further derive a class Electric Car that adds a battery attribute.\n",
        "\n",
        "class Vehicle:\n",
        "    def __init__(self, type):\n",
        "        self.type = type\n",
        "\n",
        "class Car(Vehicle):\n",
        "    pass\n",
        "\n",
        "class ElectricCar(Car):\n",
        "    def __init__(self, type, battery):\n",
        "        super().__init__(type)\n",
        "        self.battery = battery\n",
        "\n"
      ],
      "metadata": {
        "id": "-e23FP5lgLCb"
      },
      "execution_count": null,
      "outputs": []
    },
    {
      "cell_type": "code",
      "source": [
        "# 4. Demonstrate polymorphism by creating a base class Bird with a method fly(). Create two derived classes Sparrow and Penguin that override the fly() method.\n",
        "\n",
        "class Bird:\n",
        "    def fly(self):\n",
        "        print(\"Some birds can fly\")\n",
        "class Sparrow(Bird):\n",
        "    def fly(self):\n",
        "        print(\"Sparrow flies high\")\n",
        "class Penguin(Bird):\n",
        "    def fly(self):\n",
        "        print(\"Penguin cannot fly\")\n",
        "\n"
      ],
      "metadata": {
        "id": "dgnE9LkVgNNq"
      },
      "execution_count": null,
      "outputs": []
    },
    {
      "cell_type": "code",
      "source": [
        "# 5. Write a program to demonstrate encapsulation by creating a class BankAccount with private attributes balance and methods to deposit, withdraw, and check balance.\n",
        "\n",
        "class BankAccount:\n",
        "    def __init__(self, balance=0):\n",
        "        self.__balance = balance  # private\n",
        "\n",
        "    def deposit(self, amount):\n",
        "        self.__balance += amount\n",
        "\n",
        "    def withdraw(self, amount):\n",
        "        if amount <= self.__balance:\n",
        "            self.__balance -= amount\n",
        "        else:\n",
        "            print(\"Insufficient balance\")\n",
        "\n",
        "    def get_balance(self):\n",
        "        return self.__balance\n"
      ],
      "metadata": {
        "id": "D8cnqCeRgRBh"
      },
      "execution_count": null,
      "outputs": []
    },
    {
      "cell_type": "code",
      "source": [
        "# 6. Demonstrate runtime polymorphism using a method play() in a base class Instrument. Derive classes Guitar and Piano that implement their own version of play().\n",
        "\n",
        "class Instrument:\n",
        "    def play(self):\n",
        "        print(\"Playing instrument\")\n",
        "class Guitar(Instrument):\n",
        "    def play(self):\n",
        "        print(\"Playing guitar\")\n",
        "class Piano(Instrument):\n",
        "    def play(self):\n",
        "        print(\"Playing piano\")\n"
      ],
      "metadata": {
        "id": "TZp-nRFNgRz1"
      },
      "execution_count": null,
      "outputs": []
    },
    {
      "cell_type": "code",
      "source": [
        "# 7. Create a class MathOperations with a class method add_numbers() to add two numbers and a static method subtract_numbers() to subtract two numbers.\n",
        "\n",
        "class MathOperations:\n",
        "    @classmethod\n",
        "    def add_numbers(cls, a, b):\n",
        "        return a + b\n",
        "\n",
        "    @staticmethod\n",
        "    def subtract_numbers(a, b):\n",
        "        return a - b\n"
      ],
      "metadata": {
        "id": "-HiZdNIwgRxr"
      },
      "execution_count": null,
      "outputs": []
    },
    {
      "cell_type": "code",
      "source": [
        "# 8. Implement a class Person with a class method to count the total number of persons created.\n",
        "\n",
        "class Person:\n",
        "    count = 0\n",
        "\n",
        "    def __init__(self, name):\n",
        "        self.name = name\n",
        "        Person.count += 1\n",
        "\n",
        "    @classmethod\n",
        "    def total_persons(cls):\n",
        "        return cls.count\n",
        "\n"
      ],
      "metadata": {
        "id": "-WZIZVypgRvc"
      },
      "execution_count": null,
      "outputs": []
    },
    {
      "cell_type": "code",
      "source": [
        "# 9. Write a class Fraction with attributes numerator and denominator. Override the str method to display the fraction as \"numerator/denominator\".\n",
        "\n",
        "class Fraction:\n",
        "    def __init__(self, numerator, denominator):\n",
        "        self.numerator = numerator\n",
        "        self.denominator = denominator\n",
        "\n",
        "    def __str__(self):\n",
        "        return f\"{self.numerator}/{self.denominator}\"\n"
      ],
      "metadata": {
        "id": "aIOneBvagRqa"
      },
      "execution_count": null,
      "outputs": []
    },
    {
      "cell_type": "code",
      "source": [
        "# 10. Demonstrate operator overloading by creating a class Vector and overriding the add method to add two vectors.\n",
        "\n",
        "class Vector:\n",
        "    def __init__(self, x, y):\n",
        "        self.x = x\n",
        "        self.y = y\n",
        "\n",
        "    def __add__(self, other):\n",
        "        return Vector(self.x + other.x, self.y + other.y)\n",
        "\n",
        "    def __str__(self):\n",
        "        return f\"Vector({self.x}, {self.y})\"\n"
      ],
      "metadata": {
        "id": "O0i-crNbgRoU"
      },
      "execution_count": null,
      "outputs": []
    },
    {
      "cell_type": "code",
      "source": [
        "# 11. Create a class Person with attributes name and age. Add a method greet() that prints \"Hello, my name is {name} and I am {age} years old.\"\n",
        "\n",
        "class Person:\n",
        "    def __init__(self, name, age):\n",
        "        self.name = name\n",
        "        self.age = age\n",
        "\n",
        "    def greet(self):\n",
        "        print(f\"Hello, my name is {self.name} and I am {self.age} years old.\")\n"
      ],
      "metadata": {
        "id": "8oWW90mtgRl4"
      },
      "execution_count": null,
      "outputs": []
    },
    {
      "cell_type": "code",
      "source": [
        "# 12. Implement a class Student with attributes name and grades. Create a method average_grade() to compute the average of the grades.\n",
        "\n",
        "class Student:\n",
        "    def __init__(self, name, grades):\n",
        "        self.name = name\n",
        "        self.grades = grades\n",
        "\n",
        "    def average_grade(self):\n",
        "        return sum(self.grades) / len(self.grades) if self.grades else 0\n"
      ],
      "metadata": {
        "id": "Z8agxwbjgRjh"
      },
      "execution_count": null,
      "outputs": []
    },
    {
      "cell_type": "code",
      "source": [
        "# 13. Create a class Rectangle with methods set_dimensions() to set the dimensions and area() to calculate the area.\n",
        "\n",
        "class Rectangle:\n",
        "    def set_dimensions(self, width, height):\n",
        "        self.width = width\n",
        "        self.height = height\n",
        "\n",
        "    def area(self):\n",
        "        return self.width * self.height\n"
      ],
      "metadata": {
        "id": "CLF7oVtRgRfD"
      },
      "execution_count": null,
      "outputs": []
    },
    {
      "cell_type": "code",
      "source": [
        "# 14. Create a class Employee with a method calculate_salary() that computes the salary based on hours worked and hourly rate. Create a derived class Manager that adds a bonus to the salary. 15. Create a class Product with attributes name, price, and quantity. Implement a method total_price() that calculates the total price of the product.\n",
        "\n",
        "class Employee:\n",
        "    def __init__(self, hours_worked, hourly_rate):\n",
        "        self.hours_worked = hours_worked\n",
        "        self.hourly_rate = hourly_rate\n",
        "\n",
        "    def calculate_salary(self):\n",
        "        return self.hours_worked * self.hourly_rate\n",
        "\n",
        "class Manager(Employee):\n",
        "    def __init__(self, hours_worked, hourly_rate, bonus):\n",
        "        super().__init__(hours_worked, hourly_rate)\n",
        "        self.bonus = bonus\n",
        "\n",
        "    def calculate_salary(self):\n",
        "        return super().calculate_salary() + self.bonus\n"
      ],
      "metadata": {
        "id": "2Rsf_Wobgdkn"
      },
      "execution_count": null,
      "outputs": []
    },
    {
      "cell_type": "code",
      "source": [
        "# 15. Create a class Product with attributes name, price, and quantity. Implement a method total_price() that calculates the total price of the product.\n",
        "\n",
        "class Product:\n",
        "    def __init__(self, name, price, quantity):\n",
        "        self.name = name\n",
        "        self.price = price\n",
        "        self.quantity = quantity\n",
        "\n",
        "    def total_price(self):\n",
        "        return self.price * self.quantity\n"
      ],
      "metadata": {
        "id": "V7nviemxgzCc"
      },
      "execution_count": null,
      "outputs": []
    },
    {
      "cell_type": "code",
      "source": [
        "# 16. Create a class Animal with an abstract method sound(). Create two derived classes Cow and Sheep that implement the sound() method.\n",
        "\n",
        "from abc import ABC, abstractmethod\n",
        "\n",
        "class Animal(ABC):\n",
        "    @abstractmethod\n",
        "    def sound(self):\n",
        "        pass\n",
        "\n",
        "class Cow(Animal):\n",
        "    def sound(self):\n",
        "        print(\"Moo\")\n",
        "\n",
        "class Sheep(Animal):\n",
        "    def sound(self):\n",
        "        print(\"Baa\")\n"
      ],
      "metadata": {
        "id": "C18TAtDBgdYG"
      },
      "execution_count": null,
      "outputs": []
    },
    {
      "cell_type": "code",
      "source": [
        "# 17. Create a class Book with attributes title, author, and year _published. Add a method get_book_info() that returns a formatted string with the book's details.\n",
        "\n",
        "class Book:\n",
        "    def __init__(self, title, author, year_published):\n",
        "        self.title = title\n",
        "        self.author = author\n",
        "        self.year_published = year_published\n",
        "\n",
        "    def get_book_info(self):\n",
        "        return f\"'{self.title}' by {self.author}, published in {self.year_published}\"\n"
      ],
      "metadata": {
        "id": "4pj9U-g8gdVs"
      },
      "execution_count": null,
      "outputs": []
    },
    {
      "cell_type": "code",
      "source": [
        "# 18. Create a class House with attributes address and price. Create a derived class Mansion that adds an attribute number  of  rooms.\n",
        "\n",
        "class House:\n",
        "    def __init__(self, address, price):\n",
        "        self.address = address\n",
        "        self.price = price\n",
        "\n",
        "class Mansion(House):\n",
        "    def __init__(self, address, price, number_of_rooms):\n",
        "        super().__init__(address, price)\n",
        "        self.number_of_rooms = number_of_rooms\n"
      ],
      "metadata": {
        "id": "EM4d6KMIgdRL"
      },
      "execution_count": null,
      "outputs": []
    }
  ]
}